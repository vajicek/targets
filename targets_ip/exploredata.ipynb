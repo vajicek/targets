{
 "cells": [
  {
   "cell_type": "code",
   "execution_count": 17,
   "metadata": {},
   "outputs": [],
   "source": [
    "import numpy as np\n",
    "import pandas as pd\n",
    "import seaborn as sns\n",
    "import matplotlib.pyplot as plt\n",
    "from sklearn.cluster import KMeans\n",
    "from sklearn.cluster import AgglomerativeClustering\n",
    "from sklearn import metrics"
   ]
  },
  {
   "cell_type": "code",
   "execution_count": 8,
   "metadata": {},
   "outputs": [],
   "source": [
    "data = pd.read_csv('./table.csv')"
   ]
  },
  {
   "cell_type": "code",
   "execution_count": 9,
   "metadata": {},
   "outputs": [
    {
     "data": {
      "text/plain": [
       "({50, 150, 350, 400, 500, 600, 700}, {150, 250, 450, 500, 600, 700, 800})"
      ]
     },
     "execution_count": 9,
     "metadata": {},
     "output_type": "execute_result"
    }
   ],
   "source": [
    "set(data['t1']), set(data['t2'])"
   ]
  },
  {
   "cell_type": "code",
   "execution_count": 125,
   "metadata": {},
   "outputs": [
    {
     "data": {
      "text/html": [
       "<div>\n",
       "<style scoped>\n",
       "    .dataframe tbody tr th:only-of-type {\n",
       "        vertical-align: middle;\n",
       "    }\n",
       "\n",
       "    .dataframe tbody tr th {\n",
       "        vertical-align: top;\n",
       "    }\n",
       "\n",
       "    .dataframe thead th {\n",
       "        text-align: right;\n",
       "    }\n",
       "</style>\n",
       "<table border=\"1\" class=\"dataframe\">\n",
       "  <thead>\n",
       "    <tr style=\"text-align: right;\">\n",
       "      <th></th>\n",
       "      <th>t1</th>\n",
       "      <th>t2</th>\n",
       "      <th>count</th>\n",
       "      <th>dist</th>\n",
       "      <th>ang</th>\n",
       "    </tr>\n",
       "  </thead>\n",
       "  <tbody>\n",
       "    <tr>\n",
       "      <th>31013</th>\n",
       "      <td>150</td>\n",
       "      <td>800</td>\n",
       "      <td>49</td>\n",
       "      <td>497</td>\n",
       "      <td>0.052360</td>\n",
       "    </tr>\n",
       "    <tr>\n",
       "      <th>31014</th>\n",
       "      <td>150</td>\n",
       "      <td>800</td>\n",
       "      <td>49</td>\n",
       "      <td>504</td>\n",
       "      <td>0.069813</td>\n",
       "    </tr>\n",
       "    <tr>\n",
       "      <th>31015</th>\n",
       "      <td>150</td>\n",
       "      <td>800</td>\n",
       "      <td>49</td>\n",
       "      <td>125</td>\n",
       "      <td>0.034907</td>\n",
       "    </tr>\n",
       "    <tr>\n",
       "      <th>31016</th>\n",
       "      <td>150</td>\n",
       "      <td>800</td>\n",
       "      <td>49</td>\n",
       "      <td>245</td>\n",
       "      <td>1.535890</td>\n",
       "    </tr>\n",
       "    <tr>\n",
       "      <th>31017</th>\n",
       "      <td>150</td>\n",
       "      <td>800</td>\n",
       "      <td>49</td>\n",
       "      <td>564</td>\n",
       "      <td>1.710420</td>\n",
       "    </tr>\n",
       "    <tr>\n",
       "      <th>31018</th>\n",
       "      <td>150</td>\n",
       "      <td>800</td>\n",
       "      <td>49</td>\n",
       "      <td>120</td>\n",
       "      <td>0.017453</td>\n",
       "    </tr>\n",
       "    <tr>\n",
       "      <th>31019</th>\n",
       "      <td>150</td>\n",
       "      <td>800</td>\n",
       "      <td>49</td>\n",
       "      <td>111</td>\n",
       "      <td>0.000000</td>\n",
       "    </tr>\n",
       "    <tr>\n",
       "      <th>31020</th>\n",
       "      <td>150</td>\n",
       "      <td>800</td>\n",
       "      <td>49</td>\n",
       "      <td>242</td>\n",
       "      <td>1.553340</td>\n",
       "    </tr>\n",
       "    <tr>\n",
       "      <th>31021</th>\n",
       "      <td>150</td>\n",
       "      <td>800</td>\n",
       "      <td>49</td>\n",
       "      <td>570</td>\n",
       "      <td>1.692970</td>\n",
       "    </tr>\n",
       "    <tr>\n",
       "      <th>31022</th>\n",
       "      <td>150</td>\n",
       "      <td>800</td>\n",
       "      <td>49</td>\n",
       "      <td>-96</td>\n",
       "      <td>3.106690</td>\n",
       "    </tr>\n",
       "    <tr>\n",
       "      <th>31023</th>\n",
       "      <td>150</td>\n",
       "      <td>800</td>\n",
       "      <td>49</td>\n",
       "      <td>-104</td>\n",
       "      <td>3.124140</td>\n",
       "    </tr>\n",
       "    <tr>\n",
       "      <th>31024</th>\n",
       "      <td>150</td>\n",
       "      <td>800</td>\n",
       "      <td>49</td>\n",
       "      <td>251</td>\n",
       "      <td>1.518440</td>\n",
       "    </tr>\n",
       "  </tbody>\n",
       "</table>\n",
       "</div>"
      ],
      "text/plain": [
       "        t1   t2  count  dist       ang\n",
       "31013  150  800     49   497  0.052360\n",
       "31014  150  800     49   504  0.069813\n",
       "31015  150  800     49   125  0.034907\n",
       "31016  150  800     49   245  1.535890\n",
       "31017  150  800     49   564  1.710420\n",
       "31018  150  800     49   120  0.017453\n",
       "31019  150  800     49   111  0.000000\n",
       "31020  150  800     49   242  1.553340\n",
       "31021  150  800     49   570  1.692970\n",
       "31022  150  800     49   -96  3.106690\n",
       "31023  150  800     49  -104  3.124140\n",
       "31024  150  800     49   251  1.518440"
      ]
     },
     "execution_count": 125,
     "metadata": {},
     "output_type": "execute_result"
    }
   ],
   "source": [
    "line_set=data.loc[data.query('t1==150 & t2==800').index]\n",
    "line_set"
   ]
  },
  {
   "cell_type": "code",
   "execution_count": 156,
   "metadata": {},
   "outputs": [
    {
     "data": {
      "text/plain": [
       "<matplotlib.collections.PathCollection at 0x7f712a9b7320>"
      ]
     },
     "execution_count": 156,
     "metadata": {},
     "output_type": "execute_result"
    },
    {
     "data": {
      "image/png": "[encoded data removed]",
      "text/plain": [
       "<Figure size 432x288 with 1 Axes>"
      ]
     },
     "metadata": {
      "needs_background": "light"
     },
     "output_type": "display_data"
    }
   ],
   "source": [
    "line_set=data.loc[data.query('t1==150 & t2==800').index].copy()\n",
    "\n",
    "def normalize_lineset(line_set):\n",
    "    for index in line_set['ang'].index:\n",
    "        if line_set['ang'][index] > 3:\n",
    "            line_set.loc[index, 'ang'] -= 3.14\n",
    "            line_set.loc[index, 'dist'] = -line_set.loc[index, 'dist']\n",
    "\n",
    "normalize_lineset(line_set)\n",
    "\n",
    "plt.scatter(line_set.dist, line_set.ang)"
   ]
  },
  {
   "cell_type": "code",
   "execution_count": 146,
   "metadata": {},
   "outputs": [
    {
     "data": {
      "text/html": [
       "<div>\n",
       "<style scoped>\n",
       "    .dataframe tbody tr th:only-of-type {\n",
       "        vertical-align: middle;\n",
       "    }\n",
       "\n",
       "    .dataframe tbody tr th {\n",
       "        vertical-align: top;\n",
       "    }\n",
       "\n",
       "    .dataframe thead th {\n",
       "        text-align: right;\n",
       "    }\n",
       "</style>\n",
       "<table border=\"1\" class=\"dataframe\">\n",
       "  <thead>\n",
       "    <tr style=\"text-align: right;\">\n",
       "      <th></th>\n",
       "      <th>dist</th>\n",
       "      <th>ang</th>\n",
       "    </tr>\n",
       "  </thead>\n",
       "  <tbody>\n",
       "    <tr>\n",
       "      <th>32159</th>\n",
       "      <td>2.737860</td>\n",
       "      <td>0.052360</td>\n",
       "    </tr>\n",
       "    <tr>\n",
       "      <th>32160</th>\n",
       "      <td>2.776421</td>\n",
       "      <td>0.069813</td>\n",
       "    </tr>\n",
       "    <tr>\n",
       "      <th>32161</th>\n",
       "      <td>3.106947</td>\n",
       "      <td>1.710420</td>\n",
       "    </tr>\n",
       "    <tr>\n",
       "      <th>32162</th>\n",
       "      <td>1.349649</td>\n",
       "      <td>1.535890</td>\n",
       "    </tr>\n",
       "    <tr>\n",
       "      <th>32163</th>\n",
       "      <td>0.688596</td>\n",
       "      <td>0.034907</td>\n",
       "    </tr>\n",
       "    <tr>\n",
       "      <th>32164</th>\n",
       "      <td>3.140000</td>\n",
       "      <td>1.692970</td>\n",
       "    </tr>\n",
       "    <tr>\n",
       "      <th>32165</th>\n",
       "      <td>1.333123</td>\n",
       "      <td>1.553340</td>\n",
       "    </tr>\n",
       "    <tr>\n",
       "      <th>32166</th>\n",
       "      <td>0.655544</td>\n",
       "      <td>0.017453</td>\n",
       "    </tr>\n",
       "  </tbody>\n",
       "</table>\n",
       "</div>"
      ],
      "text/plain": [
       "           dist       ang\n",
       "32159  2.737860  0.052360\n",
       "32160  2.776421  0.069813\n",
       "32161  3.106947  1.710420\n",
       "32162  1.349649  1.535890\n",
       "32163  0.688596  0.034907\n",
       "32164  3.140000  1.692970\n",
       "32165  1.333123  1.553340\n",
       "32166  0.655544  0.017453"
      ]
     },
     "execution_count": 146,
     "metadata": {},
     "output_type": "execute_result"
    }
   ],
   "source": [
    "def get_data(t1, t2):\n",
    "    return data.loc[data.query('t1==%s & t2==%s' % (t1, t2)).index]\n",
    "\n",
    "def normalize_data(line_set):\n",
    "    normalize_lineset(line_set)\n",
    "    df=line_set[['dist', 'ang']]\n",
    "    return pd.DataFrame({'dist': 3.14 * df['dist'] / max(df['dist']), 'ang':df['ang']})\n",
    "\n",
    "df=normalize_data(get_data(500,500))\n",
    "df"
   ]
  },
  {
   "cell_type": "code",
   "execution_count": 117,
   "metadata": {},
   "outputs": [
    {
     "name": "stdout",
     "output_type": "stream",
     "text": [
      "[[2.75714035 0.06108655]\n",
      " [0.67207018 0.02617995]\n",
      " [3.12347368 1.701695  ]\n",
      " [1.34138596 1.544615  ]]\n",
      "0.9788953055585196\n",
      "6752.954618815173\n",
      "0.021257167559710157\n"
     ]
    },
    {
     "data": {
      "image/png": "[encoded data removed]",
      "text/plain": [
       "<Figure size 432x288 with 1 Axes>"
      ]
     },
     "metadata": {
      "needs_background": "light"
     },
     "output_type": "display_data"
    }
   ],
   "source": [
    "kmeans = KMeans(n_clusters=4).fit(df)\n",
    "#aggclu = AgglomerativeClustering(n_clusters=4).fit(df)\n",
    "centroids = kmeans.cluster_centers_\n",
    "print(centroids)\n",
    "plt.scatter(df['dist'], df['ang'], c= kmeans.labels_.astype(float), s=50, alpha=0.5)\n",
    "plt.scatter(centroids[:, 0], centroids[:, 1], c='red', s=50)\n",
    "labels = kmeans.labels_\n",
    "print(metrics.silhouette_score(df, labels, metric='euclidean'))\n",
    "print(metrics.calinski_harabasz_score(df, labels))\n",
    "print(metrics.davies_bouldin_score(df, labels))"
   ]
  },
  {
   "cell_type": "code",
   "execution_count": 54,
   "metadata": {},
   "outputs": [],
   "source": [
    "good=[(150,800), (350,800), (400,800), (500,500),\n",
    "      (500,600), (500,700), (500,800), (50,800),\n",
    "      (600,500), (600,600), (700,450), (700,500)]"
   ]
  },
  {
   "cell_type": "code",
   "execution_count": 58,
   "metadata": {},
   "outputs": [
    {
     "data": {
      "text/plain": [
       "[0.00028881080678670734,\n",
       " 0.0008957997607281586,\n",
       " 0.1428170635912929,\n",
       " 0.0773909332150303]"
      ]
     },
     "execution_count": 58,
     "metadata": {},
     "output_type": "execute_result"
    }
   ],
   "source": [
    "def clustering_goodness(clustering):\n",
    "    return [\n",
    "        df[kmeans.labels_==i].var().sum()\n",
    "        for i in set(clustering.labels_)\n",
    "    ]\n",
    "clustering_goodness(kmeans)"
   ]
  },
  {
   "cell_type": "code",
   "execution_count": 120,
   "metadata": {},
   "outputs": [],
   "source": [
    "#cluster_variations=\n",
    "#data_variation\n",
    "#max(cluster_variation)\n",
    "#min(cluster_distance)\n",
    "#max(cluster_variation)/min(cluster_distance)\n",
    "def nanto(x, v):\n",
    "    if np.isnan(x):\n",
    "        return v\n",
    "    return x\n",
    "\n",
    "def goodness_metric(clustering):\n",
    "    dv=df.var(axis=0).mean()\n",
    "    cv=[nanto(df[clustering.labels_==i].var(axis=0).mean(), 0) for i in set(clustering.labels_)]\n",
    "\n",
    "    def dist(i,j):\n",
    "        cv_i=df[clustering.labels_==i].mean()\n",
    "        cv_j=df[clustering.labels_==j].mean()\n",
    "        d=cv_i-cv_j\n",
    "        return sum(d*d)\n",
    "    \n",
    "    distances=[(i,j,dist(i,j)) for i in set(clustering.labels_) for j in set(clustering.labels_) if i!=j]\n",
    "    min_cluster_distance = min([distance[2] for distance in distances])\n",
    "    return max(cv) / min_cluster_distance"
   ]
  },
  {
   "cell_type": "code",
   "execution_count": 108,
   "metadata": {},
   "outputs": [
    {
     "data": {
      "text/plain": [
       "0    True\n",
       "dtype: bool"
      ]
     },
     "execution_count": 108,
     "metadata": {},
     "output_type": "execute_result"
    }
   ],
   "source": [
    "np.isnan(pd.DataFrame([1]).var())"
   ]
  },
  {
   "cell_type": "code",
   "execution_count": 157,
   "metadata": {},
   "outputs": [],
   "source": [
    "res = []\n",
    "for t1 in set(data['t1']):\n",
    "    for t2 in set(data['t2']):\n",
    "        df = normalize_data(get_data(t1, t2))\n",
    "        if df.shape[0] < 4:\n",
    "            continue\n",
    "        kmeans = KMeans(n_clusters=4).fit(df)\n",
    "        labels = kmeans.labels_\n",
    "        #goodness = metrics.silhouette_score(df, labels, metric='euclidean')\n",
    "        #goodness = metrics.calinski_harabasz_score(df, labels)\n",
    "        #goodness = metrics.davies_bouldin_score(df, labels)\n",
    "        goodness = goodness_metric(kmeans)\n",
    "        #goodness = clustering_goodness(kmeans)\n",
    "        res += [(t1, t2, goodness, (t1,t2) in good)]"
   ]
  },
  {
   "cell_type": "code",
   "execution_count": 161,
   "metadata": {},
   "outputs": [
    {
     "data": {
      "text/plain": [
       "(array([13.,  1.,  1.,  0.,  3.,  1.,  0.,  0.,  4.,  4.,  3.,  0.,  0.,\n",
       "         0.,  1.,  0.,  1.,  3.,  0.,  0.,  2.,  0.,  1.,  1.,  0.,  3.,\n",
       "         1.,  1.,  2.,  1.]),\n",
       " array([1.62658056e-04, 7.70578556e-03, 1.52489131e-02, 2.27920406e-02,\n",
       "        3.03351681e-02, 3.78782956e-02, 4.54214231e-02, 5.29645506e-02,\n",
       "        6.05076781e-02, 6.80508056e-02, 7.55939331e-02, 8.31370606e-02,\n",
       "        9.06801881e-02, 9.82233156e-02, 1.05766443e-01, 1.13309571e-01,\n",
       "        1.20852698e-01, 1.28395826e-01, 1.35938953e-01, 1.43482081e-01,\n",
       "        1.51025208e-01, 1.58568336e-01, 1.66111463e-01, 1.73654591e-01,\n",
       "        1.81197718e-01, 1.88740846e-01, 1.96283973e-01, 2.03827101e-01,\n",
       "        2.11370228e-01, 2.18913356e-01, 2.26456483e-01]),\n",
       " <a list of 30 Patch objects>)"
      ]
     },
     "execution_count": 161,
     "metadata": {},
     "output_type": "execute_result"
    },
    {
     "data": {
      "image/png": "[encoded data removed]",
      "text/plain": [
       "<Figure size 432x288 with 1 Axes>"
      ]
     },
     "metadata": {
      "needs_background": "light"
     },
     "output_type": "display_data"
    }
   ],
   "source": [
    "x=sorted(res, key=lambda a: -a[2])\n",
    "plt.hist([a[2] for a in x], bins=30)"
   ]
  },
  {
   "cell_type": "code",
   "execution_count": 159,
   "metadata": {},
   "outputs": [
    {
     "data": {
      "text/plain": [
       "[(150, 150, 0.22645648325067527, False),\n",
       " (50, 700, 0.21361031463630756, False),\n",
       " (400, 250, 0.212705303797064, False),\n",
       " (350, 250, 0.20833800795873078, False),\n",
       " (50, 600, 0.19747772200978356, False),\n",
       " (600, 800, 0.1949346013943571, False),\n",
       " (600, 700, 0.1949346013943571, False),\n",
       " (700, 600, 0.1949346013943571, False),\n",
       " (350, 150, 0.17570257851578053, False),\n",
       " (50, 500, 0.1703623434038638, False),\n",
       " (500, 150, 0.1558047353401729, False),\n",
       " (150, 500, 0.1558047353401729, False),\n",
       " (400, 150, 0.13543315547998575, False),\n",
       " (150, 250, 0.1352350485715125, False),\n",
       " (50, 450, 0.13523206016795453, False),\n",
       " (50, 250, 0.12289955849620374, False),\n",
       " (50, 150, 0.11012578634387366, False),\n",
       " (150, 600, 0.07667219213886282, False),\n",
       " (600, 150, 0.07667219213886282, False),\n",
       " (500, 250, 0.07661629279120971, False),\n",
       " (400, 450, 0.06954910516288712, False),\n",
       " (600, 250, 0.06954910516288712, False),\n",
       " (350, 450, 0.06954910516288712, False),\n",
       " (350, 500, 0.06954910516288712, False),\n",
       " (150, 450, 0.06333316045979404, False),\n",
       " (150, 700, 0.06170153321232355, False),\n",
       " (700, 150, 0.06170153321232355, False),\n",
       " (700, 250, 0.06170153321232355, False),\n",
       " (350, 600, 0.03949877452140964, False),\n",
       " (400, 500, 0.037521000595727966, False),\n",
       " (500, 450, 0.031276228233182185, False),\n",
       " (350, 700, 0.03078227926424892, False),\n",
       " (400, 600, 0.016680565044828014, False),\n",
       " (600, 450, 0.008671591077783139, False),\n",
       " (400, 700, 0.006307510483301773, False),\n",
       " (50, 800, 0.0014414404249959122, True),\n",
       " (150, 800, 0.0008668812873566854, True),\n",
       " (500, 800, 0.0001665091374432379, True),\n",
       " (500, 700, 0.0001665091374432379, True),\n",
       " (600, 600, 0.0001665091374432379, True),\n",
       " (700, 500, 0.0001665091374432379, True),\n",
       " (400, 800, 0.00016556057169193886, True),\n",
       " (500, 600, 0.00016556057169193886, True),\n",
       " (600, 500, 0.00016556057169193886, True),\n",
       " (700, 450, 0.00016556057169193886, True),\n",
       " (500, 500, 0.0001626580563387747, True),\n",
       " (350, 800, 0.0001626580563387747, True)]"
      ]
     },
     "execution_count": 159,
     "metadata": {},
     "output_type": "execute_result"
    }
   ],
   "source": [
    "x"
   ]
  }
 ],
 "metadata": {
  "kernelspec": {
   "display_name": "Python 3",
   "language": "python",
   "name": "python3"
  },
  "language_info": {
   "codemirror_mode": {
    "name": "ipython",
    "version": 3
   },
   "file_extension": ".py",
   "mimetype": "text/x-python",
   "name": "python",
   "nbconvert_exporter": "python",
   "pygments_lexer": "ipython3",
   "version": "3.6.9"
  }
 },
 "nbformat": 4,
 "nbformat_minor": 2
}
