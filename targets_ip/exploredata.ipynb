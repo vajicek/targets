{
 "cells": [
  {
   "cell_type": "code",
   "execution_count": 126,
   "metadata": {},
   "outputs": [],
   "source": [
    "import numpy as np\n",
    "import pandas as pd\n",
    "import seaborn as sns\n",
    "import matplotlib.pyplot as plt\n",
    "from sklearn.cluster import KMeans"
   ]
  },
  {
   "cell_type": "code",
   "execution_count": 58,
   "metadata": {},
   "outputs": [],
   "source": [
    "data = pd.read_csv('./table.csv')"
   ]
  },
  {
   "cell_type": "code",
   "execution_count": 63,
   "metadata": {},
   "outputs": [
    {
     "data": {
      "text/plain": [
       "({50, 150, 350, 400, 500, 600, 700}, {150, 250, 450, 500, 600, 700, 800})"
      ]
     },
     "execution_count": 63,
     "metadata": {},
     "output_type": "execute_result"
    }
   ],
   "source": [
    "set(data['t1']), set(data['t2'])"
   ]
  },
  {
   "cell_type": "code",
   "execution_count": 55,
   "metadata": {},
   "outputs": [
    {
     "data": {
      "text/html": [
       "<div>\n",
       "<style scoped>\n",
       "    .dataframe tbody tr th:only-of-type {\n",
       "        vertical-align: middle;\n",
       "    }\n",
       "\n",
       "    .dataframe tbody tr th {\n",
       "        vertical-align: top;\n",
       "    }\n",
       "\n",
       "    .dataframe thead th {\n",
       "        text-align: right;\n",
       "    }\n",
       "</style>\n",
       "<table border=\"1\" class=\"dataframe\">\n",
       "  <thead>\n",
       "    <tr style=\"text-align: right;\">\n",
       "      <th></th>\n",
       "      <th>t1</th>\n",
       "      <th>t2</th>\n",
       "      <th>count</th>\n",
       "      <th>dist</th>\n",
       "      <th>ang</th>\n",
       "    </tr>\n",
       "  </thead>\n",
       "  <tbody>\n",
       "    <tr>\n",
       "      <th>32159</th>\n",
       "      <td>500</td>\n",
       "      <td>500</td>\n",
       "      <td>49</td>\n",
       "      <td>497</td>\n",
       "      <td>0.052360</td>\n",
       "    </tr>\n",
       "    <tr>\n",
       "      <th>32160</th>\n",
       "      <td>500</td>\n",
       "      <td>500</td>\n",
       "      <td>49</td>\n",
       "      <td>504</td>\n",
       "      <td>0.069813</td>\n",
       "    </tr>\n",
       "    <tr>\n",
       "      <th>32161</th>\n",
       "      <td>500</td>\n",
       "      <td>500</td>\n",
       "      <td>49</td>\n",
       "      <td>564</td>\n",
       "      <td>1.710420</td>\n",
       "    </tr>\n",
       "    <tr>\n",
       "      <th>32162</th>\n",
       "      <td>500</td>\n",
       "      <td>500</td>\n",
       "      <td>49</td>\n",
       "      <td>245</td>\n",
       "      <td>1.535890</td>\n",
       "    </tr>\n",
       "    <tr>\n",
       "      <th>32163</th>\n",
       "      <td>500</td>\n",
       "      <td>500</td>\n",
       "      <td>49</td>\n",
       "      <td>125</td>\n",
       "      <td>0.034907</td>\n",
       "    </tr>\n",
       "    <tr>\n",
       "      <th>32164</th>\n",
       "      <td>500</td>\n",
       "      <td>500</td>\n",
       "      <td>49</td>\n",
       "      <td>570</td>\n",
       "      <td>1.692970</td>\n",
       "    </tr>\n",
       "    <tr>\n",
       "      <th>32165</th>\n",
       "      <td>500</td>\n",
       "      <td>500</td>\n",
       "      <td>49</td>\n",
       "      <td>242</td>\n",
       "      <td>1.553340</td>\n",
       "    </tr>\n",
       "    <tr>\n",
       "      <th>32166</th>\n",
       "      <td>500</td>\n",
       "      <td>500</td>\n",
       "      <td>49</td>\n",
       "      <td>119</td>\n",
       "      <td>0.017453</td>\n",
       "    </tr>\n",
       "  </tbody>\n",
       "</table>\n",
       "</div>"
      ],
      "text/plain": [
       "        t1   t2  count  dist       ang\n",
       "32159  500  500     49   497  0.052360\n",
       "32160  500  500     49   504  0.069813\n",
       "32161  500  500     49   564  1.710420\n",
       "32162  500  500     49   245  1.535890\n",
       "32163  500  500     49   125  0.034907\n",
       "32164  500  500     49   570  1.692970\n",
       "32165  500  500     49   242  1.553340\n",
       "32166  500  500     49   119  0.017453"
      ]
     },
     "execution_count": 55,
     "metadata": {},
     "output_type": "execute_result"
    }
   ],
   "source": [
    "line_set=data.loc[data.query('t1==500 & t2==500').index]\n",
    "line_set"
   ]
  },
  {
   "cell_type": "code",
   "execution_count": 106,
   "metadata": {},
   "outputs": [
    {
     "data": {
      "text/plain": [
       "<matplotlib.collections.PathCollection at 0x7f0fa30d2f98>"
      ]
     },
     "execution_count": 106,
     "metadata": {},
     "output_type": "execute_result"
    },
    {
     "data": {
      "image/png": "[encoded data removed]",
      "text/plain": [
       "<Figure size 432x288 with 1 Axes>"
      ]
     },
     "metadata": {},
     "output_type": "display_data"
    }
   ],
   "source": [
    "line_set=data.loc[data.query('t1==500 & t2==500').index]\n",
    "plt.scatter(line_set.dist, line_set.ang)"
   ]
  },
  {
   "cell_type": "code",
   "execution_count": 154,
   "metadata": {},
   "outputs": [
    {
     "data": {
      "text/html": [
       "<div>\n",
       "<style scoped>\n",
       "    .dataframe tbody tr th:only-of-type {\n",
       "        vertical-align: middle;\n",
       "    }\n",
       "\n",
       "    .dataframe tbody tr th {\n",
       "        vertical-align: top;\n",
       "    }\n",
       "\n",
       "    .dataframe thead th {\n",
       "        text-align: right;\n",
       "    }\n",
       "</style>\n",
       "<table border=\"1\" class=\"dataframe\">\n",
       "  <thead>\n",
       "    <tr style=\"text-align: right;\">\n",
       "      <th></th>\n",
       "      <th>dist</th>\n",
       "      <th>ang</th>\n",
       "    </tr>\n",
       "  </thead>\n",
       "  <tbody>\n",
       "    <tr>\n",
       "      <th>32270</th>\n",
       "      <td>2.737860</td>\n",
       "      <td>0.052360</td>\n",
       "    </tr>\n",
       "    <tr>\n",
       "      <th>32271</th>\n",
       "      <td>2.776421</td>\n",
       "      <td>0.069813</td>\n",
       "    </tr>\n",
       "    <tr>\n",
       "      <th>32272</th>\n",
       "      <td>3.106947</td>\n",
       "      <td>1.710420</td>\n",
       "    </tr>\n",
       "    <tr>\n",
       "      <th>32273</th>\n",
       "      <td>1.349649</td>\n",
       "      <td>1.535890</td>\n",
       "    </tr>\n",
       "    <tr>\n",
       "      <th>32274</th>\n",
       "      <td>3.140000</td>\n",
       "      <td>1.692970</td>\n",
       "    </tr>\n",
       "  </tbody>\n",
       "</table>\n",
       "</div>"
      ],
      "text/plain": [
       "           dist       ang\n",
       "32270  2.737860  0.052360\n",
       "32271  2.776421  0.069813\n",
       "32272  3.106947  1.710420\n",
       "32273  1.349649  1.535890\n",
       "32274  3.140000  1.692970"
      ]
     },
     "execution_count": 154,
     "metadata": {},
     "output_type": "execute_result"
    }
   ],
   "source": [
    "def get_data(t1, t2):\n",
    "    return data.loc[data.query('t1==%s & t2==%s' % (t1, t2)).index]\n",
    "\n",
    "def normalize_data(line_set):\n",
    "    df=line_set[['dist', 'ang']]\n",
    "    return pd.DataFrame({'dist': 3.14 * df['dist'] / max(df['dist']), 'ang':df['ang']})\n",
    "\n",
    "df=normalize_data(get_data(600,700))\n",
    "df"
   ]
  },
  {
   "cell_type": "code",
   "execution_count": 155,
   "metadata": {},
   "outputs": [
    {
     "name": "stdout",
     "output_type": "stream",
     "text": [
      "[[2.73785965 0.0523599 ]\n",
      " [3.12347368 1.701695  ]\n",
      " [1.34964912 1.53589   ]\n",
      " [2.77642105 0.0698132 ]]\n"
     ]
    },
    {
     "data": {
      "text/plain": [
       "<matplotlib.collections.PathCollection at 0x7f0fa2f07f60>"
      ]
     },
     "execution_count": 155,
     "metadata": {},
     "output_type": "execute_result"
    },
    {
     "data": {
      "image/png": "[encoded data removed]",
      "text/plain": [
       "<Figure size 432x288 with 1 Axes>"
      ]
     },
     "metadata": {},
     "output_type": "display_data"
    }
   ],
   "source": [
    "kmeans = KMeans(n_clusters=4).fit(df)\n",
    "centroids = kmeans.cluster_centers_\n",
    "print(centroids)\n",
    "plt.scatter(df['dist'], df['ang'], c= kmeans.labels_.astype(float), s=50, alpha=0.5)\n",
    "plt.scatter(centroids[:, 0], centroids[:, 1], c='red', s=50)"
   ]
  },
  {
   "cell_type": "code",
   "execution_count": 146,
   "metadata": {},
   "outputs": [
    {
     "data": {
      "text/plain": [
       "[0.0006985470675918131,\n",
       " 0.0006984894771468163,\n",
       " 0.0008957997607281586,\n",
       " 0.00028881080678670734]"
      ]
     },
     "execution_count": 146,
     "metadata": {},
     "output_type": "execute_result"
    }
   ],
   "source": [
    "def clustering_goodness(clustering):\n",
    "    return [\n",
    "        df[kmeans.labels_==i].var().sum()\n",
    "        for i in set(clustering.labels_)\n",
    "    ]\n",
    "clustering_goodness(kmeans)"
   ]
  },
  {
   "cell_type": "code",
   "execution_count": 151,
   "metadata": {},
   "outputs": [],
   "source": [
    "res = []\n",
    "for t1 in set(data['t1']):\n",
    "    for t2 in set(data['t2']):\n",
    "        df = normalize_data(get_data(t1, t2))\n",
    "        if df.shape[0] < 4:\n",
    "            continue\n",
    "        kmeans = KMeans(n_clusters=4).fit(df)\n",
    "        goodness = clustering_goodness(kmeans)\n",
    "        res += [(t1, t2, np.mean(goodness))]"
   ]
  },
  {
   "cell_type": "code",
   "execution_count": 153,
   "metadata": {},
   "outputs": [
    {
     "data": {
      "text/plain": [
       "[(600, 800, 0.00017462236928670406),\n",
       " (600, 700, 0.00017462236928670406),\n",
       " (700, 600, 0.00017462236928670406),\n",
       " (500, 800, 0.00039857230946874374),\n",
       " (500, 700, 0.00039857230946874374),\n",
       " (600, 600, 0.00039857230946874374),\n",
       " (700, 500, 0.00039857230946874374),\n",
       " (400, 800, 0.0004707750111654205),\n",
       " (500, 600, 0.0004707750111654206),\n",
       " (600, 500, 0.0004707750111654206),\n",
       " (700, 450, 0.0004707750111654206),\n",
       " (350, 800, 0.0006454117780633737),\n",
       " (500, 500, 0.0006454117780633739),\n",
       " (400, 700, 0.008831542543114605),\n",
       " (600, 450, 0.011684407951333414),\n",
       " (400, 600, 0.028004653477585472),\n",
       " (350, 700, 0.055348151843459516),\n",
       " (500, 250, 0.16656724985319835),\n",
       " (150, 450, 0.16866699100042312),\n",
       " (600, 250, 0.16882995163047884),\n",
       " (350, 500, 0.17018542605829445),\n",
       " (350, 450, 0.17033789821645517),\n",
       " (400, 450, 0.1780311636516225),\n",
       " (150, 150, 0.18253241526281205),\n",
       " (50, 500, 0.1835477539866628),\n",
       " (350, 600, 0.1871990745381401),\n",
       " (400, 500, 0.18919417752724257),\n",
       " (700, 250, 0.19396788293789063),\n",
       " (150, 700, 0.19673131882069145),\n",
       " (700, 150, 0.19673131882069148),\n",
       " (150, 250, 0.20457579029256767),\n",
       " (50, 450, 0.20464264989572822),\n",
       " (150, 600, 0.22103699777209845),\n",
       " (600, 150, 0.22103699777209845),\n",
       " (50, 700, 0.23451866644395056),\n",
       " (350, 250, 0.2351199270381322),\n",
       " (150, 800, 0.23659016974893782),\n",
       " (500, 150, 0.23705526938846405),\n",
       " (150, 500, 0.23705526938846405),\n",
       " (350, 150, 0.24642278050029243),\n",
       " (50, 600, 0.2535357626517972),\n",
       " (400, 150, 0.26080823505338013),\n",
       " (400, 250, 0.2749977870429491),\n",
       " (50, 250, 0.3041169684558294),\n",
       " (50, 150, 0.31231359895157074),\n",
       " (500, 450, 0.3443072155163205),\n",
       " (50, 800, 0.41869869856851444)]"
      ]
     },
     "execution_count": 153,
     "metadata": {},
     "output_type": "execute_result"
    }
   ],
   "source": [
    "sorted(res, key=lambda a: a[2])"
   ]
  }
 ],
 "metadata": {
  "kernelspec": {
   "display_name": "Python 3",
   "language": "python",
   "name": "python3"
  },
  "language_info": {
   "codemirror_mode": {
    "name": "ipython",
    "version": 3
   },
   "file_extension": ".py",
   "mimetype": "text/x-python",
   "name": "python",
   "nbconvert_exporter": "python",
   "pygments_lexer": "ipython3",
   "version": "3.6.8"
  }
 },
 "nbformat": 4,
 "nbformat_minor": 2
}
