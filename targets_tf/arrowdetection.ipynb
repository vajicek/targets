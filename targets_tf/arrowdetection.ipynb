{
 "cells": [
  {
   "cell_type": "markdown",
   "metadata": {},
   "source": [
    "# Arrow detection using tensorflow"
   ]
  },
  {
   "cell_type": "markdown",
   "metadata": {},
   "source": [
    "## 1. Create folder hierarchy"
   ]
  },
  {
   "cell_type": "code",
   "execution_count": 20,
   "metadata": {},
   "outputs": [
    {
     "name": "stdout",
     "output_type": "stream",
     "text": [
      "The autoreload extension is already loaded. To reload it, use:\n",
      "  %reload_ext autoreload\n"
     ]
    },
    {
     "data": {
      "text/plain": [
       "{'WORKSPACE_PATH': 'Tensorflow/workspace',\n",
       " 'SCRIPTS_PATH': 'Tensorflow/scripts',\n",
       " 'APIMODEL_PATH': 'Tensorflow/models',\n",
       " 'ANNOTATION_PATH': 'Tensorflow/workspace/annotations',\n",
       " 'IMAGE_PATH': 'Tensorflow/workspace/images',\n",
       " 'MODEL_PATH': 'Tensorflow/workspace/models',\n",
       " 'PRETRAINED_MODEL_PATH': 'Tensorflow/workspace/pre-trained-models',\n",
       " 'CHECKPOINT_PATH': 'Tensorflow/workspace/models/my_ssd_mobnet_640',\n",
       " 'OUTPUT_PATH': 'Tensorflow/workspace/models/my_ssd_mobnet_640/export',\n",
       " 'TFJS_PATH': 'Tensorflow/workspace/models/my_ssd_mobnet_640/tfjsexport',\n",
       " 'TFLITE_PATH': 'Tensorflow/workspace/models/my_ssd_mobnet_640/tfliteexport',\n",
       " 'PROTOC_PATH': 'Tensorflow/protoc'}"
      ]
     },
     "execution_count": 20,
     "metadata": {},
     "output_type": "execute_result"
    }
   ],
   "source": [
    "%load_ext autoreload\n",
    "%autoreload 2\n",
    "\n",
    "import os\n",
    "import pickle\n",
    "\n",
    "files = pickle.load(open('files.pickle', 'rb'))\n",
    "paths = pickle.load(open('paths.pickle', 'rb'))\n",
    "paths"
   ]
  },
  {
   "cell_type": "markdown",
   "metadata": {
    "id": "M5KJTnkfpfDC"
   },
   "source": [
    "## 2. Create Label Map"
   ]
  },
  {
   "cell_type": "code",
   "execution_count": 3,
   "metadata": {
    "id": "p1BVDWo7pfDC"
   },
   "outputs": [],
   "source": [
    "labels = [{'name':'1', 'id':1}]\n",
    "\n",
    "with open(files['LABELMAP'], 'w') as f:\n",
    "    for label in labels:\n",
    "        f.write('item { \\n')\n",
    "        f.write('\\tname:\\'{}\\'\\n'.format(label['name']))\n",
    "        f.write('\\tid:{}\\n'.format(label['id']))\n",
    "        f.write('}\\n')"
   ]
  },
  {
   "cell_type": "markdown",
   "metadata": {
    "id": "C88zyVELpfDC"
   },
   "source": [
    "## 3. Prepere test and train data"
   ]
  },
  {
   "cell_type": "code",
   "execution_count": 4,
   "metadata": {},
   "outputs": [],
   "source": [
    "import glob\n",
    "\n",
    "#DATA='/home/ox330/data/targets/all/'\n",
    "#DATA='/home/ox330/data/targets/squares/'\n",
    "#DATA='/home/ox330/data/targets/points/'\n",
    "DATA='/home/vajicek/data/targets/points/'\n",
    "\n",
    "annotation_jsons = glob.glob(DATA + '*.json')\n",
    "test_size = int(len(annotation_jsons) / 3)\n",
    "#test_size = int(len(annotation_jsons) - 10)\n",
    "test = annotation_jsons[:test_size]\n",
    "train = annotation_jsons[test_size:]\n",
    "\n",
    "!mkdir -p {os.path.join(paths['IMAGE_PATH'], 'test')}\n",
    "!mkdir -p {os.path.join(paths['IMAGE_PATH'], 'train')}\n",
    "\n",
    "!rm {os.path.join(paths['IMAGE_PATH'], 'test')}/*\n",
    "!rm {os.path.join(paths['IMAGE_PATH'], 'train')}/*\n",
    "\n",
    "for test1 in test:\n",
    "    !cp {test1} {os.path.join(paths['IMAGE_PATH'], 'test')}\n",
    "    !cp {os.path.splitext(test1)[0]+'.jpg'} {os.path.join(paths['IMAGE_PATH'], 'test')}\n",
    "for train1 in train:\n",
    "    !cp {train1} {os.path.join(paths['IMAGE_PATH'], 'train')}\n",
    "    !cp {os.path.splitext(train1)[0]+'.jpg'} {os.path.join(paths['IMAGE_PATH'], 'train')}"
   ]
  },
  {
   "cell_type": "markdown",
   "metadata": {
    "id": "C88zyVELpfDC"
   },
   "source": [
    "## 4. tfrecord"
   ]
  },
  {
   "cell_type": "code",
   "execution_count": 5,
   "metadata": {},
   "outputs": [
    {
     "name": "stdout",
     "output_type": "stream",
     "text": [
      "Successfully created the TFRecord file: Tensorflow/workspace/annotations/train.record\n",
      "Successfully created the TFRecord file: Tensorflow/workspace/annotations/test.record\n"
     ]
    }
   ],
   "source": [
    "import generate_tfrecord as gen;\n",
    "gen.json_to_tfrecord(os.path.join(paths['IMAGE_PATH'], 'train'), files['LABELMAP'],\n",
    "    os.path.join(paths['IMAGE_PATH'], 'train'),\n",
    "    os.path.join(paths['ANNOTATION_PATH'], 'train.record'), 40)\n",
    "gen.json_to_tfrecord(os.path.join(paths['IMAGE_PATH'], 'test'), files['LABELMAP'],\n",
    "    os.path.join(paths['IMAGE_PATH'], 'test'),\n",
    "    os.path.join(paths['ANNOTATION_PATH'], 'test.record'), 40)"
   ]
  },
  {
   "cell_type": "markdown",
   "metadata": {
    "id": "qT4QU7pLpfDE"
   },
   "source": [
    "## 5. Copy Model Config to Training Folder"
   ]
  },
  {
   "cell_type": "code",
   "execution_count": 6,
   "metadata": {
    "id": "cOjuTFbwpfDF"
   },
   "outputs": [],
   "source": [
    "!cp {files['PRETRAINED_MODEL_CONFIG']} {paths['CHECKPOINT_PATH']}"
   ]
  },
  {
   "cell_type": "markdown",
   "metadata": {
    "id": "Ga8gpNslpfDF"
   },
   "source": [
    "## 6. Update Config For Transfer Learning"
   ]
  },
  {
   "cell_type": "code",
   "execution_count": 7,
   "metadata": {
    "id": "Z9hRrO_ppfDF"
   },
   "outputs": [],
   "source": [
    "import tensorflow as tf\n",
    "from object_detection.utils import config_util\n",
    "from object_detection.protos import pipeline_pb2\n",
    "from google.protobuf import text_format"
   ]
  },
  {
   "cell_type": "code",
   "execution_count": 8,
   "metadata": {
    "code_folding": [],
    "id": "c2A0mn4ipfDF"
   },
   "outputs": [
    {
     "data": {
      "text/plain": [
       "{'model': ssd {\n",
       "   num_classes: 90\n",
       "   image_resizer {\n",
       "     fixed_shape_resizer {\n",
       "       height: 640\n",
       "       width: 640\n",
       "     }\n",
       "   }\n",
       "   feature_extractor {\n",
       "     type: \"ssd_mobilenet_v1_fpn_keras\"\n",
       "     depth_multiplier: 1.0\n",
       "     min_depth: 16\n",
       "     conv_hyperparams {\n",
       "       regularizer {\n",
       "         l2_regularizer {\n",
       "           weight: 3.9999998989515007e-05\n",
       "         }\n",
       "       }\n",
       "       initializer {\n",
       "         random_normal_initializer {\n",
       "           mean: 0.0\n",
       "           stddev: 0.009999999776482582\n",
       "         }\n",
       "       }\n",
       "       activation: RELU_6\n",
       "       batch_norm {\n",
       "         decay: 0.996999979019165\n",
       "         scale: true\n",
       "         epsilon: 0.0010000000474974513\n",
       "       }\n",
       "     }\n",
       "     override_base_feature_extractor_hyperparams: true\n",
       "     fpn {\n",
       "       min_level: 3\n",
       "       max_level: 7\n",
       "     }\n",
       "   }\n",
       "   box_coder {\n",
       "     faster_rcnn_box_coder {\n",
       "       y_scale: 10.0\n",
       "       x_scale: 10.0\n",
       "       height_scale: 5.0\n",
       "       width_scale: 5.0\n",
       "     }\n",
       "   }\n",
       "   matcher {\n",
       "     argmax_matcher {\n",
       "       matched_threshold: 0.5\n",
       "       unmatched_threshold: 0.5\n",
       "       ignore_thresholds: false\n",
       "       negatives_lower_than_unmatched: true\n",
       "       force_match_for_each_row: true\n",
       "       use_matmul_gather: true\n",
       "     }\n",
       "   }\n",
       "   similarity_calculator {\n",
       "     iou_similarity {\n",
       "     }\n",
       "   }\n",
       "   box_predictor {\n",
       "     weight_shared_convolutional_box_predictor {\n",
       "       conv_hyperparams {\n",
       "         regularizer {\n",
       "           l2_regularizer {\n",
       "             weight: 3.9999998989515007e-05\n",
       "           }\n",
       "         }\n",
       "         initializer {\n",
       "           random_normal_initializer {\n",
       "             mean: 0.0\n",
       "             stddev: 0.009999999776482582\n",
       "           }\n",
       "         }\n",
       "         activation: RELU_6\n",
       "         batch_norm {\n",
       "           decay: 0.996999979019165\n",
       "           scale: true\n",
       "           epsilon: 0.0010000000474974513\n",
       "         }\n",
       "       }\n",
       "       depth: 256\n",
       "       num_layers_before_predictor: 4\n",
       "       kernel_size: 3\n",
       "       class_prediction_bias_init: -4.599999904632568\n",
       "     }\n",
       "   }\n",
       "   anchor_generator {\n",
       "     multiscale_anchor_generator {\n",
       "       min_level: 3\n",
       "       max_level: 7\n",
       "       anchor_scale: 4.0\n",
       "       aspect_ratios: 1.0\n",
       "       aspect_ratios: 2.0\n",
       "       aspect_ratios: 0.5\n",
       "       scales_per_octave: 2\n",
       "     }\n",
       "   }\n",
       "   post_processing {\n",
       "     batch_non_max_suppression {\n",
       "       score_threshold: 9.99999993922529e-09\n",
       "       iou_threshold: 0.6000000238418579\n",
       "       max_detections_per_class: 100\n",
       "       max_total_detections: 100\n",
       "       use_static_shapes: false\n",
       "     }\n",
       "     score_converter: SIGMOID\n",
       "   }\n",
       "   normalize_loss_by_num_matches: true\n",
       "   loss {\n",
       "     localization_loss {\n",
       "       weighted_smooth_l1 {\n",
       "       }\n",
       "     }\n",
       "     classification_loss {\n",
       "       weighted_sigmoid_focal {\n",
       "         gamma: 2.0\n",
       "         alpha: 0.25\n",
       "       }\n",
       "     }\n",
       "     classification_weight: 1.0\n",
       "     localization_weight: 1.0\n",
       "   }\n",
       "   encode_background_as_zeros: true\n",
       "   normalize_loc_loss_by_codesize: true\n",
       "   inplace_batchnorm_update: true\n",
       "   freeze_batchnorm: false\n",
       " },\n",
       " 'train_config': batch_size: 64\n",
       " data_augmentation_options {\n",
       "   random_horizontal_flip {\n",
       "   }\n",
       " }\n",
       " data_augmentation_options {\n",
       "   random_crop_image {\n",
       "     min_object_covered: 0.0\n",
       "     min_aspect_ratio: 0.75\n",
       "     max_aspect_ratio: 3.0\n",
       "     min_area: 0.75\n",
       "     max_area: 1.0\n",
       "     overlap_thresh: 0.0\n",
       "   }\n",
       " }\n",
       " sync_replicas: true\n",
       " optimizer {\n",
       "   momentum_optimizer {\n",
       "     learning_rate {\n",
       "       cosine_decay_learning_rate {\n",
       "         learning_rate_base: 0.03999999910593033\n",
       "         total_steps: 25000\n",
       "         warmup_learning_rate: 0.013333000242710114\n",
       "         warmup_steps: 2000\n",
       "       }\n",
       "     }\n",
       "     momentum_optimizer_value: 0.8999999761581421\n",
       "   }\n",
       "   use_moving_average: false\n",
       " }\n",
       " fine_tune_checkpoint: \"PATH_TO_BE_CONFIGURED\"\n",
       " num_steps: 25000\n",
       " startup_delay_steps: 0.0\n",
       " replicas_to_aggregate: 8\n",
       " max_number_of_boxes: 100\n",
       " unpad_groundtruth_tensors: false\n",
       " fine_tune_checkpoint_type: \"classification\"\n",
       " fine_tune_checkpoint_version: V2,\n",
       " 'train_input_config': tf_record_input_reader {\n",
       "   input_path: \"PATH_TO_BE_CONFIGURED\"\n",
       " },\n",
       " 'eval_config': metrics_set: \"coco_detection_metrics\"\n",
       " use_moving_averages: false\n",
       " batch_size: 1,\n",
       " 'eval_input_configs': [label_map_path: \"PATH_TO_BE_CONFIGURED\"\n",
       " shuffle: false\n",
       " num_epochs: 1\n",
       " tf_record_input_reader {\n",
       "   input_path: \"PATH_TO_BE_CONFIGURED\"\n",
       " }\n",
       " ],\n",
       " 'eval_input_config': label_map_path: \"PATH_TO_BE_CONFIGURED\"\n",
       " shuffle: false\n",
       " num_epochs: 1\n",
       " tf_record_input_reader {\n",
       "   input_path: \"PATH_TO_BE_CONFIGURED\"\n",
       " }}"
      ]
     },
     "execution_count": 8,
     "metadata": {},
     "output_type": "execute_result"
    }
   ],
   "source": [
    "# config from pretrained model\n",
    "config = config_util.get_configs_from_pipeline_file(files['PIPELINE_CONFIG'])\n",
    "config"
   ]
  },
  {
   "cell_type": "code",
   "execution_count": 9,
   "metadata": {},
   "outputs": [],
   "source": [
    "pipeline_config = pipeline_pb2.TrainEvalPipelineConfig()\n",
    "with tf.io.gfile.GFile(files['PIPELINE_CONFIG'], \"r\") as f:\n",
    "    text_format.Merge(f.read(), pipeline_config)"
   ]
  },
  {
   "cell_type": "code",
   "execution_count": 10,
   "metadata": {
    "code_folding": [],
    "id": "rP43Ph0JpfDG"
   },
   "outputs": [],
   "source": [
    "# update model training parameters\n",
    "pipeline_config.model.ssd.num_classes = len(labels)\n",
    "# pipeline_config.model.ssd.image_resizer.fixed_shape_resizer.height = 512\n",
    "# pipeline_config.model.ssd.image_resizer.fixed_shape_resizer.width = 512\n",
    "\n",
    "pipeline_config.train_config.batch_size = 6\n",
    "pipeline_config.train_config.fine_tune_checkpoint = files['PRETRAINED_MODEL_CKP0']\n",
    "pipeline_config.train_config.fine_tune_checkpoint_type = \"detection\"\n",
    "\n",
    "pipeline_config.train_input_reader.label_map_path = files['LABELMAP']\n",
    "pipeline_config.train_input_reader.tf_record_input_reader.input_path[:] = [\n",
    "    os.path.join(paths['ANNOTATION_PATH'], 'train.record')]\n",
    "\n",
    "pipeline_config.eval_input_reader[0].label_map_path = files['LABELMAP']\n",
    "pipeline_config.eval_input_reader[0].tf_record_input_reader.input_path[:] = [\n",
    "    os.path.join(paths['ANNOTATION_PATH'], 'test.record')]"
   ]
  },
  {
   "cell_type": "code",
   "execution_count": 11,
   "metadata": {
    "code_folding": [],
    "id": "oJvfgwWqpfDG"
   },
   "outputs": [],
   "source": [
    "#store updated config\n",
    "config_text = text_format.MessageToString(pipeline_config)\n",
    "with tf.io.gfile.GFile(files['PIPELINE_CONFIG'], \"wb\") as f:\n",
    "    f.write(config_text)"
   ]
  },
  {
   "cell_type": "markdown",
   "metadata": {},
   "source": [
    "## 7. Train the Model"
   ]
  },
  {
   "cell_type": "code",
   "execution_count": 15,
   "metadata": {
    "id": "B-Y2UQmQpfDG"
   },
   "outputs": [],
   "source": [
    "TRAINING_SCRIPT = os.path.join(paths['APIMODEL_PATH'], 'research', 'object_detection', 'model_main_tf2.py')"
   ]
  },
  {
   "cell_type": "code",
   "execution_count": 16,
   "metadata": {},
   "outputs": [
    {
     "data": {
      "text/plain": [
       "[PhysicalDevice(name='/physical_device:GPU:0', device_type='GPU')]"
      ]
     },
     "execution_count": 16,
     "metadata": {},
     "output_type": "execute_result"
    }
   ],
   "source": [
    "tf.config.list_physical_devices('GPU')"
   ]
  },
  {
   "cell_type": "code",
   "execution_count": 17,
   "metadata": {
    "id": "jMP2XDfQpfDH"
   },
   "outputs": [],
   "source": [
    "command = \"python3 {} --model_dir={} --pipeline_config_path={} --num_train_steps=2000\".format(\n",
    "    TRAINING_SCRIPT,\n",
    "    paths['CHECKPOINT_PATH'],\n",
    "    files['PIPELINE_CONFIG'])"
   ]
  },
  {
   "cell_type": "code",
   "execution_count": 18,
   "metadata": {},
   "outputs": [],
   "source": [
    "!rm {paths['CHECKPOINT_PATH']}/ckpt-*\n",
    "!rm {paths['CHECKPOINT_PATH']}/checkpoint"
   ]
  },
  {
   "cell_type": "code",
   "execution_count": 19,
   "metadata": {
    "colab": {
     "base_uri": "https://localhost:8080/"
    },
    "id": "A4OXXi-ApfDH",
    "outputId": "117a0e83-012b-466e-b7a6-ccaa349ac5ab"
   },
   "outputs": [
    {
     "name": "stdout",
     "output_type": "stream",
     "text": [
      "python3 Tensorflow/models/research/object_detection/model_main_tf2.py --model_dir=Tensorflow/workspace/models/my_ssd_mobnet_640 --pipeline_config_path=Tensorflow/workspace/models/my_ssd_mobnet_640/pipeline.config --num_train_steps=2000\n"
     ]
    }
   ],
   "source": [
    "print(command)"
   ]
  },
  {
   "cell_type": "code",
   "execution_count": null,
   "metadata": {},
   "outputs": [],
   "source": [
    "!{command}"
   ]
  },
  {
   "cell_type": "markdown",
   "metadata": {},
   "source": [
    "## 8. Evaluate the Model"
   ]
  },
  {
   "cell_type": "code",
   "execution_count": 13,
   "metadata": {},
   "outputs": [],
   "source": [
    "command = \"python3 {} --model_dir={} --pipeline_config_path={} --checkpoint_dir={}\".format(\n",
    "    TRAINING_SCRIPT,\n",
    "    paths['CHECKPOINT_PATH'],\n",
    "    files['PIPELINE_CONFIG'],\n",
    "    paths['CHECKPOINT_PATH'])"
   ]
  },
  {
   "cell_type": "code",
   "execution_count": 14,
   "metadata": {},
   "outputs": [
    {
     "name": "stdout",
     "output_type": "stream",
     "text": [
      "python3 Tensorflow/models/research/object_detection/model_main_tf2.py --model_dir=Tensorflow/workspace/models/my_ssd_resnet50 --pipeline_config_path=Tensorflow/workspace/models/my_ssd_resnet50/pipeline.config --checkpoint_dir=Tensorflow/workspace/models/my_ssd_resnet50\n"
     ]
    }
   ],
   "source": [
    "print(command)"
   ]
  },
  {
   "cell_type": "code",
   "execution_count": null,
   "metadata": {},
   "outputs": [],
   "source": [
    "!{command}"
   ]
  },
  {
   "cell_type": "markdown",
   "metadata": {},
   "source": [
    "## 9. Convert to tf lite"
   ]
  },
  {
   "cell_type": "code",
   "execution_count": 11,
   "metadata": {},
   "outputs": [
    {
     "name": "stdout",
     "output_type": "stream",
     "text": [
      "Tensorflow/models/research/object_detection/exporter_main_v2.py \n",
      "Tensorflow/workspace/models/my_ssd_resnet50/pipeline.config\n",
      "Tensorflow/workspace/models/my_ssd_resnet50\n",
      "Tensorflow/workspace/models/my_ssd_resnet50/export\n",
      "python3 Tensorflow/models/research/object_detection/exporter_main_v2.py  --input_type=image_tensor --pipeline_config_path=Tensorflow/workspace/models/my_ssd_resnet50/pipeline.config --trained_checkpoint_dir=Tensorflow/workspace/models/my_ssd_resnet50 --output_directory=Tensorflow/workspace/models/my_ssd_resnet50/export\n"
     ]
    }
   ],
   "source": [
    "FREEZE_SCRIPT = os.path.join(paths['APIMODEL_PATH'], 'research', 'object_detection', 'exporter_main_v2.py ')\n",
    "command = \"python3 {} --input_type=image_tensor --pipeline_config_path={} --trained_checkpoint_dir={} --output_directory={}\".format(\n",
    "    FREEZE_SCRIPT,\n",
    "    files['PIPELINE_CONFIG'],\n",
    "    paths['CHECKPOINT_PATH'],\n",
    "    paths['OUTPUT_PATH'])\n",
    "\n",
    "print(FREEZE_SCRIPT)\n",
    "print(files['PIPELINE_CONFIG'])\n",
    "print(paths['CHECKPOINT_PATH'])\n",
    "print(paths['OUTPUT_PATH'])\n",
    "print(command)"
   ]
  },
  {
   "cell_type": "code",
   "execution_count": 8,
   "metadata": {},
   "outputs": [
    {
     "name": "stdout",
     "output_type": "stream",
     "text": [
      "python3 Tensorflow/models/research/object_detection/export_tflite_graph_tf2.py  --pipeline_config_path=Tensorflow/workspace/models/my_ssd_resnet50/pipeline.config --trained_checkpoint_dir=Tensorflow/workspace/models/my_ssd_resnet50 --output_directory=Tensorflow/workspace/models/my_ssd_resnet50/tfliteexport\n"
     ]
    }
   ],
   "source": [
    "TFLITE_SCRIPT = os.path.join(paths['APIMODEL_PATH'], 'research', 'object_detection', 'export_tflite_graph_tf2.py ')\n",
    "command = \"python3 {} --pipeline_config_path={} --trained_checkpoint_dir={} --output_directory={}\".format(\n",
    "    TFLITE_SCRIPT,\n",
    "    files['PIPELINE_CONFIG'],\n",
    "    paths['CHECKPOINT_PATH'],\n",
    "    paths['TFLITE_PATH'])\n",
    "print(command)"
   ]
  },
  {
   "cell_type": "code",
   "execution_count": 7,
   "metadata": {},
   "outputs": [
    {
     "name": "stdout",
     "output_type": "stream",
     "text": [
      "~/.local/bin/tflite_convert --saved_model_dir=Tensorflow/workspace/models/my_ssd_resnet50/tfliteexport/saved_model --output_file=Tensorflow/workspace/models/my_ssd_resnet50/tfliteexport/saved_model/detect.tflite\n"
     ]
    }
   ],
   "source": [
    "FROZEN_TFLITE_PATH = os.path.join(paths['TFLITE_PATH'], 'saved_model')\n",
    "TFLITE_MODEL = os.path.join(paths['TFLITE_PATH'], 'saved_model', 'detect.tflite')\n",
    "command = \"~/.local/bin/tflite_convert \\\n",
    "--saved_model_dir={} \\\n",
    "--output_file={}\".format(FROZEN_TFLITE_PATH, TFLITE_MODEL, )\n",
    "\n",
    "# --input_shapes=1,640,640,3 \\\n",
    "# --input_arrays=normalized_input_image_tensor \\\n",
    "# --output_arrays='TFLite_Detection_PostProcess','TFLite_Detection_PostProcess:1','TFLite_Detection_PostProcess:2','TFLite_Detection_PostProcess:3' \\\n",
    "# --inference_type=FLOAT \\\n",
    "# --allow_custom_ops\n",
    "print(command)"
   ]
  },
  {
   "cell_type": "code",
   "execution_count": 9,
   "metadata": {},
   "outputs": [
    {
     "name": "stdout",
     "output_type": "stream",
     "text": [
      "2022-01-01 14:04:10.374547: I tensorflow/stream_executor/cuda/cuda_gpu_executor.cc:937] successful NUMA node read from SysFS had negative value (-1), but there must be at least one NUMA node, so returning NUMA node zero\n",
      "2022-01-01 14:04:10.412689: I tensorflow/stream_executor/cuda/cuda_gpu_executor.cc:937] successful NUMA node read from SysFS had negative value (-1), but there must be at least one NUMA node, so returning NUMA node zero\n",
      "2022-01-01 14:04:10.412919: I tensorflow/stream_executor/cuda/cuda_gpu_executor.cc:937] successful NUMA node read from SysFS had negative value (-1), but there must be at least one NUMA node, so returning NUMA node zero\n",
      "2022-01-01 14:04:10.420084: I tensorflow/stream_executor/cuda/cuda_gpu_executor.cc:937] successful NUMA node read from SysFS had negative value (-1), but there must be at least one NUMA node, so returning NUMA node zero\n",
      "2022-01-01 14:04:10.420301: I tensorflow/stream_executor/cuda/cuda_gpu_executor.cc:937] successful NUMA node read from SysFS had negative value (-1), but there must be at least one NUMA node, so returning NUMA node zero\n",
      "2022-01-01 14:04:10.420489: I tensorflow/stream_executor/cuda/cuda_gpu_executor.cc:937] successful NUMA node read from SysFS had negative value (-1), but there must be at least one NUMA node, so returning NUMA node zero\n",
      "2022-01-01 14:04:10.891896: I tensorflow/stream_executor/cuda/cuda_gpu_executor.cc:937] successful NUMA node read from SysFS had negative value (-1), but there must be at least one NUMA node, so returning NUMA node zero\n",
      "2022-01-01 14:04:10.892099: I tensorflow/stream_executor/cuda/cuda_gpu_executor.cc:937] successful NUMA node read from SysFS had negative value (-1), but there must be at least one NUMA node, so returning NUMA node zero\n",
      "2022-01-01 14:04:10.892267: I tensorflow/stream_executor/cuda/cuda_gpu_executor.cc:937] successful NUMA node read from SysFS had negative value (-1), but there must be at least one NUMA node, so returning NUMA node zero\n",
      "2022-01-01 14:04:10.892415: I tensorflow/core/common_runtime/gpu/gpu_device.cc:1510] Created device /job:localhost/replica:0/task:0/device:GPU:0 with 114 MB memory:  -> device: 0, name: NVIDIA GeForce RTX 3060, pci bus id: 0000:01:00.0, compute capability: 8.6\n",
      "2022-01-01 14:04:22.022949: W tensorflow/core/common_runtime/bfc_allocator.cc:457] Allocator (GPU_0_bfc) ran out of memory trying to allocate 9.00MiB (rounded to 9437184)requested by op Mul\n",
      "If the cause is memory fragmentation maybe the environment variable 'TF_GPU_ALLOCATOR=cuda_malloc_async' will improve the situation. \n",
      "Current allocation summary follows.\n",
      "Current allocation summary follows.\n",
      "2022-01-01 14:04:22.023015: I tensorflow/core/common_runtime/bfc_allocator.cc:1004] BFCAllocator dump for GPU_0_bfc\n",
      "2022-01-01 14:04:22.023042: I tensorflow/core/common_runtime/bfc_allocator.cc:1011] Bin (256): \tTotal Chunks: 35, Chunks in use: 35. 8.8KiB allocated for chunks. 8.8KiB in use in bin. 7.0KiB client-requested in use in bin.\n",
      "2022-01-01 14:04:22.023068: I tensorflow/core/common_runtime/bfc_allocator.cc:1011] Bin (512): \tTotal Chunks: 32, Chunks in use: 32. 16.0KiB allocated for chunks. 16.0KiB in use in bin. 16.0KiB client-requested in use in bin.\n",
      "2022-01-01 14:04:22.023092: I tensorflow/core/common_runtime/bfc_allocator.cc:1011] Bin (1024): \tTotal Chunks: 65, Chunks in use: 65. 65.2KiB allocated for chunks. 65.2KiB in use in bin. 65.0KiB client-requested in use in bin.\n",
      "2022-01-01 14:04:22.023114: I tensorflow/core/common_runtime/bfc_allocator.cc:1011] Bin (2048): \tTotal Chunks: 40, Chunks in use: 40. 80.0KiB allocated for chunks. 80.0KiB in use in bin. 80.0KiB client-requested in use in bin.\n",
      "2022-01-01 14:04:22.023143: I tensorflow/core/common_runtime/bfc_allocator.cc:1011] Bin (4096): \tTotal Chunks: 28, Chunks in use: 28. 112.0KiB allocated for chunks. 112.0KiB in use in bin. 112.0KiB client-requested in use in bin.\n",
      "2022-01-01 14:04:22.023167: I tensorflow/core/common_runtime/bfc_allocator.cc:1011] Bin (8192): \tTotal Chunks: 12, Chunks in use: 12. 102.0KiB allocated for chunks. 102.0KiB in use in bin. 96.0KiB client-requested in use in bin.\n",
      "2022-01-01 14:04:22.023191: I tensorflow/core/common_runtime/bfc_allocator.cc:1011] Bin (16384): \tTotal Chunks: 1, Chunks in use: 1. 28.0KiB allocated for chunks. 28.0KiB in use in bin. 16.0KiB client-requested in use in bin.\n",
      "2022-01-01 14:04:22.023214: I tensorflow/core/common_runtime/bfc_allocator.cc:1011] Bin (32768): \tTotal Chunks: 1, Chunks in use: 1. 36.8KiB allocated for chunks. 36.8KiB in use in bin. 36.8KiB client-requested in use in bin.\n",
      "2022-01-01 14:04:22.023237: I tensorflow/core/common_runtime/bfc_allocator.cc:1011] Bin (65536): \tTotal Chunks: 6, Chunks in use: 6. 416.0KiB allocated for chunks. 416.0KiB in use in bin. 384.0KiB client-requested in use in bin.\n",
      "2022-01-01 14:04:22.023259: I tensorflow/core/common_runtime/bfc_allocator.cc:1011] Bin (131072): \tTotal Chunks: 5, Chunks in use: 4. 784.0KiB allocated for chunks. 560.0KiB in use in bin. 560.0KiB client-requested in use in bin.\n",
      "2022-01-01 14:04:22.023286: I tensorflow/core/common_runtime/bfc_allocator.cc:1011] Bin (262144): \tTotal Chunks: 10, Chunks in use: 7. 2.69MiB allocated for chunks. 1.81MiB in use in bin. 1.75MiB client-requested in use in bin.\n",
      "2022-01-01 14:04:22.023308: I tensorflow/core/common_runtime/bfc_allocator.cc:1011] Bin (524288): \tTotal Chunks: 8, Chunks in use: 6. 4.62MiB allocated for chunks. 3.25MiB in use in bin. 3.25MiB client-requested in use in bin.\n",
      "2022-01-01 14:04:22.023332: I tensorflow/core/common_runtime/bfc_allocator.cc:1011] Bin (1048576): \tTotal Chunks: 14, Chunks in use: 11. 15.25MiB allocated for chunks. 11.75MiB in use in bin. 11.00MiB client-requested in use in bin.\n",
      "2022-01-01 14:04:22.023357: I tensorflow/core/common_runtime/bfc_allocator.cc:1011] Bin (2097152): \tTotal Chunks: 10, Chunks in use: 8. 23.00MiB allocated for chunks. 17.50MiB in use in bin. 17.50MiB client-requested in use in bin.\n",
      "2022-01-01 14:04:22.023380: I tensorflow/core/common_runtime/bfc_allocator.cc:1011] Bin (4194304): \tTotal Chunks: 6, Chunks in use: 4. 25.00MiB allocated for chunks. 16.00MiB in use in bin. 16.00MiB client-requested in use in bin.\n",
      "2022-01-01 14:04:22.023402: I tensorflow/core/common_runtime/bfc_allocator.cc:1011] Bin (8388608): \tTotal Chunks: 4, Chunks in use: 4. 42.39MiB allocated for chunks. 42.39MiB in use in bin. 35.00MiB client-requested in use in bin.\n",
      "2022-01-01 14:04:22.023427: I tensorflow/core/common_runtime/bfc_allocator.cc:1011] Bin (16777216): \tTotal Chunks: 0, Chunks in use: 0. 0B allocated for chunks. 0B in use in bin. 0B client-requested in use in bin.\n",
      "2022-01-01 14:04:22.023448: I tensorflow/core/common_runtime/bfc_allocator.cc:1011] Bin (33554432): \tTotal Chunks: 0, Chunks in use: 0. 0B allocated for chunks. 0B in use in bin. 0B client-requested in use in bin.\n",
      "2022-01-01 14:04:22.023469: I tensorflow/core/common_runtime/bfc_allocator.cc:1011] Bin (67108864): \tTotal Chunks: 0, Chunks in use: 0. 0B allocated for chunks. 0B in use in bin. 0B client-requested in use in bin.\n",
      "2022-01-01 14:04:22.023489: I tensorflow/core/common_runtime/bfc_allocator.cc:1011] Bin (134217728): \tTotal Chunks: 0, Chunks in use: 0. 0B allocated for chunks. 0B in use in bin. 0B client-requested in use in bin.\n",
      "2022-01-01 14:04:22.023507: I tensorflow/core/common_runtime/bfc_allocator.cc:1011] Bin (268435456): \tTotal Chunks: 0, Chunks in use: 0. 0B allocated for chunks. 0B in use in bin. 0B client-requested in use in bin.\n",
      "2022-01-01 14:04:22.023527: I tensorflow/core/common_runtime/bfc_allocator.cc:1027] Bin for 9.00MiB was 8.00MiB, Chunk State: \n",
      "2022-01-01 14:04:22.023543: I tensorflow/core/common_runtime/bfc_allocator.cc:1040] Next region of size 120127488\n",
      "2022-01-01 14:04:22.023564: I tensorflow/core/common_runtime/bfc_allocator.cc:1060] InUse at 7f2f20000000 of size 256 next 1\n",
      "2022-01-01 14:04:22.023579: I tensorflow/core/common_runtime/bfc_allocator.cc:1060] InUse at 7f2f20000100 of size 1280 next 2\n",
      "2022-01-01 14:04:22.023599: I tensorflow/core/common_runtime/bfc_allocator.cc:1060] InUse at 7f2f20000600 of size 256 next 3\n",
      "2022-01-01 14:04:22.023615: I tensorflow/core/common_runtime/bfc_allocator.cc:1060] InUse at 7f2f20000700 of size 256 next 4\n",
      "2022-01-01 14:04:22.023630: I tensorflow/core/common_runtime/bfc_allocator.cc:1060] InUse at 7f2f20000800 of size 256 next 5\n",
      "2022-01-01 14:04:22.023644: I tensorflow/core/common_runtime/bfc_allocator.cc:1060] InUse at 7f2f20000900 of size 256 next 6\n",
      "2022-01-01 14:04:22.023661: I tensorflow/core/common_runtime/bfc_allocator.cc:1060] InUse at 7f2f20000a00 of size 256 next 7\n",
      "2022-01-01 14:04:22.023678: I tensorflow/core/common_runtime/bfc_allocator.cc:1060] InUse at 7f2f20000b00 of size 256 next 10\n",
      "2022-01-01 14:04:22.023694: I tensorflow/core/common_runtime/bfc_allocator.cc:1060] InUse at 7f2f20000c00 of size 256 next 11\n",
      "2022-01-01 14:04:22.023711: I tensorflow/core/common_runtime/bfc_allocator.cc:1060] InUse at 7f2f20000d00 of size 256 next 12\n",
      "2022-01-01 14:04:22.023727: I tensorflow/core/common_runtime/bfc_allocator.cc:1060] InUse at 7f2f20000e00 of size 256 next 13\n",
      "2022-01-01 14:04:22.023743: I tensorflow/core/common_runtime/bfc_allocator.cc:1060] InUse at 7f2f20000f00 of size 256 next 14\n",
      "2022-01-01 14:04:22.023761: I tensorflow/core/common_runtime/bfc_allocator.cc:1060] InUse at 7f2f20001000 of size 1024 next 153\n",
      "2022-01-01 14:04:22.023777: I tensorflow/core/common_runtime/bfc_allocator.cc:1060] InUse at 7f2f20001400 of size 1024 next 154\n",
      "2022-01-01 14:04:22.023794: I tensorflow/core/common_runtime/bfc_allocator.cc:1060] InUse at 7f2f20001800 of size 4096 next 155\n",
      "2022-01-01 14:04:22.023811: I tensorflow/core/common_runtime/bfc_allocator.cc:1060] InUse at 7f2f20002800 of size 4096 next 157\n",
      "2022-01-01 14:04:22.023827: I tensorflow/core/common_runtime/bfc_allocator.cc:1060] InUse at 7f2f20003800 of size 4096 next 158\n",
      "2022-01-01 14:04:22.023843: I tensorflow/core/common_runtime/bfc_allocator.cc:1060] InUse at 7f2f20004800 of size 4096 next 159\n",
      "2022-01-01 14:04:22.023860: I tensorflow/core/common_runtime/bfc_allocator.cc:1060] InUse at 7f2f20005800 of size 1024 next 160\n",
      "2022-01-01 14:04:22.023876: I tensorflow/core/common_runtime/bfc_allocator.cc:1060] InUse at 7f2f20005c00 of size 1024 next 162\n",
      "2022-01-01 14:04:22.023892: I tensorflow/core/common_runtime/bfc_allocator.cc:1060] InUse at 7f2f20006000 of size 1024 next 163\n",
      "2022-01-01 14:04:22.023909: I tensorflow/core/common_runtime/bfc_allocator.cc:1060] InUse at 7f2f20006400 of size 1024 next 164\n",
      "2022-01-01 14:04:22.023925: I tensorflow/core/common_runtime/bfc_allocator.cc:1060] InUse at 7f2f20006800 of size 1024 next 165\n",
      "2022-01-01 14:04:22.023941: I tensorflow/core/common_runtime/bfc_allocator.cc:1060] InUse at 7f2f20006c00 of size 1024 next 168\n",
      "2022-01-01 14:04:22.023958: I tensorflow/core/common_runtime/bfc_allocator.cc:1060] InUse at 7f2f20007000 of size 1024 next 169\n",
      "2022-01-01 14:04:22.023974: I tensorflow/core/common_runtime/bfc_allocator.cc:1060] InUse at 7f2f20007400 of size 1024 next 170\n",
      "2022-01-01 14:04:22.023990: I tensorflow/core/common_runtime/bfc_allocator.cc:1060] InUse at 7f2f20007800 of size 4096 next 172\n",
      "2022-01-01 14:04:22.024007: I tensorflow/core/common_runtime/bfc_allocator.cc:1060] InUse at 7f2f20008800 of size 4096 next 173\n",
      "2022-01-01 14:04:22.024023: I tensorflow/core/common_runtime/bfc_allocator.cc:1060] InUse at 7f2f20009800 of size 4096 next 174\n",
      "2022-01-01 14:04:22.024040: I tensorflow/core/common_runtime/bfc_allocator.cc:1060] InUse at 7f2f2000a800 of size 4096 next 175\n",
      "2022-01-01 14:04:22.024056: I tensorflow/core/common_runtime/bfc_allocator.cc:1060] InUse at 7f2f2000b800 of size 1024 next 177\n",
      "2022-01-01 14:04:22.024072: I tensorflow/core/common_runtime/bfc_allocator.cc:1060] InUse at 7f2f2000bc00 of size 1024 next 178\n",
      "2022-01-01 14:04:22.024088: I tensorflow/core/common_runtime/bfc_allocator.cc:1060] InUse at 7f2f2000c000 of size 1024 next 179\n",
      "2022-01-01 14:04:22.024104: I tensorflow/core/common_runtime/bfc_allocator.cc:1060] InUse at 7f2f2000c400 of size 1024 next 180\n",
      "2022-01-01 14:04:22.024121: I tensorflow/core/common_runtime/bfc_allocator.cc:1060] InUse at 7f2f2000c800 of size 1024 next 183\n",
      "2022-01-01 14:04:22.024137: I tensorflow/core/common_runtime/bfc_allocator.cc:1060] InUse at 7f2f2000cc00 of size 1024 next 184\n",
      "2022-01-01 14:04:22.024155: I tensorflow/core/common_runtime/bfc_allocator.cc:1060] InUse at 7f2f2000d000 of size 1024 next 185\n",
      "2022-01-01 14:04:22.024170: I tensorflow/core/common_runtime/bfc_allocator.cc:1060] InUse at 7f2f2000d400 of size 1024 next 186\n",
      "2022-01-01 14:04:22.024184: I tensorflow/core/common_runtime/bfc_allocator.cc:1060] InUse at 7f2f2000d800 of size 4096 next 188\n",
      "2022-01-01 14:04:22.024203: I tensorflow/core/common_runtime/bfc_allocator.cc:1060] InUse at 7f2f2000e800 of size 4096 next 189\n",
      "2022-01-01 14:04:22.024247: I tensorflow/core/common_runtime/bfc_allocator.cc:1060] InUse at 7f2f2000f800 of size 4096 next 190\n",
      "2022-01-01 14:04:22.024277: I tensorflow/core/common_runtime/bfc_allocator.cc:1060] InUse at 7f2f20010800 of size 4096 next 191\n",
      "2022-01-01 14:04:22.024309: I tensorflow/core/common_runtime/bfc_allocator.cc:1060] InUse at 7f2f20011800 of size 1024 next 192\n",
      "2022-01-01 14:04:22.024335: I tensorflow/core/common_runtime/bfc_allocator.cc:1060] InUse at 7f2f20011c00 of size 1024 next 193\n",
      "2022-01-01 14:04:22.024353: I tensorflow/core/common_runtime/bfc_allocator.cc:1060] InUse at 7f2f20012000 of size 1024 next 194\n",
      "2022-01-01 14:04:22.024369: I tensorflow/core/common_runtime/bfc_allocator.cc:1060] InUse at 7f2f20012400 of size 1024 next 195\n",
      "2022-01-01 14:04:22.024386: I tensorflow/core/common_runtime/bfc_allocator.cc:1060] InUse at 7f2f20012800 of size 1024 next 198\n",
      "2022-01-01 14:04:22.024403: I tensorflow/core/common_runtime/bfc_allocator.cc:1060] InUse at 7f2f20012c00 of size 1024 next 8\n",
      "2022-01-01 14:04:22.024420: I tensorflow/core/common_runtime/bfc_allocator.cc:1060] InUse at 7f2f20013000 of size 37632 next 9\n",
      "2022-01-01 14:04:22.024437: I tensorflow/core/common_runtime/bfc_allocator.cc:1060] InUse at 7f2f2001c300 of size 1024 next 17\n",
      "2022-01-01 14:04:22.024454: I tensorflow/core/common_runtime/bfc_allocator.cc:1060] InUse at 7f2f2001c700 of size 1024 next 18\n",
      "2022-01-01 14:04:22.024471: I tensorflow/core/common_runtime/bfc_allocator.cc:1060] InUse at 7f2f2001cb00 of size 1024 next 19\n",
      "2022-01-01 14:04:22.024487: I tensorflow/core/common_runtime/bfc_allocator.cc:1060] InUse at 7f2f2001cf00 of size 1024 next 20\n",
      "2022-01-01 14:04:22.024504: I tensorflow/core/common_runtime/bfc_allocator.cc:1060] InUse at 7f2f2001d300 of size 256 next 21\n",
      "2022-01-01 14:04:22.024521: I tensorflow/core/common_runtime/bfc_allocator.cc:1060] InUse at 7f2f2001d400 of size 256 next 23\n",
      "2022-01-01 14:04:22.024538: I tensorflow/core/common_runtime/bfc_allocator.cc:1060] InUse at 7f2f2001d500 of size 256 next 24\n",
      "2022-01-01 14:04:22.024554: I tensorflow/core/common_runtime/bfc_allocator.cc:1060] InUse at 7f2f2001d600 of size 256 next 25\n",
      "2022-01-01 14:04:22.024571: I tensorflow/core/common_runtime/bfc_allocator.cc:1060] InUse at 7f2f2001d700 of size 256 next 26\n",
      "2022-01-01 14:04:22.024588: I tensorflow/core/common_runtime/bfc_allocator.cc:1060] InUse at 7f2f2001d800 of size 256 next 29\n",
      "2022-01-01 14:04:22.024604: I tensorflow/core/common_runtime/bfc_allocator.cc:1060] InUse at 7f2f2001d900 of size 256 next 30\n",
      "2022-01-01 14:04:22.024621: I tensorflow/core/common_runtime/bfc_allocator.cc:1060] InUse at 7f2f2001da00 of size 256 next 31\n",
      "2022-01-01 14:04:22.024638: I tensorflow/core/common_runtime/bfc_allocator.cc:1060] InUse at 7f2f2001db00 of size 1024 next 34\n",
      "2022-01-01 14:04:22.024655: I tensorflow/core/common_runtime/bfc_allocator.cc:1060] InUse at 7f2f2001df00 of size 1024 next 35\n",
      "2022-01-01 14:04:22.024672: I tensorflow/core/common_runtime/bfc_allocator.cc:1060] InUse at 7f2f2001e300 of size 1024 next 36\n",
      "2022-01-01 14:04:22.024689: I tensorflow/core/common_runtime/bfc_allocator.cc:1060] InUse at 7f2f2001e700 of size 1024 next 37\n",
      "2022-01-01 14:04:22.024705: I tensorflow/core/common_runtime/bfc_allocator.cc:1060] InUse at 7f2f2001eb00 of size 256 next 39\n",
      "2022-01-01 14:04:22.024722: I tensorflow/core/common_runtime/bfc_allocator.cc:1060] InUse at 7f2f2001ec00 of size 256 next 40\n",
      "2022-01-01 14:04:22.024739: I tensorflow/core/common_runtime/bfc_allocator.cc:1060] InUse at 7f2f2001ed00 of size 256 next 41\n",
      "2022-01-01 14:04:22.024755: I tensorflow/core/common_runtime/bfc_allocator.cc:1060] InUse at 7f2f2001ee00 of size 256 next 42\n",
      "2022-01-01 14:04:22.024772: I tensorflow/core/common_runtime/bfc_allocator.cc:1060] InUse at 7f2f2001ef00 of size 256 next 43\n",
      "2022-01-01 14:04:22.024789: I tensorflow/core/common_runtime/bfc_allocator.cc:1060] InUse at 7f2f2001f000 of size 256 next 46\n",
      "2022-01-01 14:04:22.024806: I tensorflow/core/common_runtime/bfc_allocator.cc:1060] InUse at 7f2f2001f100 of size 256 next 47\n",
      "2022-01-01 14:04:22.024822: I tensorflow/core/common_runtime/bfc_allocator.cc:1060] InUse at 7f2f2001f200 of size 256 next 48\n",
      "2022-01-01 14:04:22.024839: I tensorflow/core/common_runtime/bfc_allocator.cc:1060] InUse at 7f2f2001f300 of size 1024 next 49\n",
      "2022-01-01 14:04:22.024856: I tensorflow/core/common_runtime/bfc_allocator.cc:1060] InUse at 7f2f2001f700 of size 1024 next 50\n",
      "2022-01-01 14:04:22.024872: I tensorflow/core/common_runtime/bfc_allocator.cc:1060] InUse at 7f2f2001fb00 of size 1024 next 51\n",
      "2022-01-01 14:04:22.024889: I tensorflow/core/common_runtime/bfc_allocator.cc:1060] InUse at 7f2f2001ff00 of size 1024 next 52\n",
      "2022-01-01 14:04:22.024906: I tensorflow/core/common_runtime/bfc_allocator.cc:1060] InUse at 7f2f20020300 of size 256 next 54\n",
      "2022-01-01 14:04:22.024923: I tensorflow/core/common_runtime/bfc_allocator.cc:1060] InUse at 7f2f20020400 of size 256 next 55\n",
      "2022-01-01 14:04:22.024939: I tensorflow/core/common_runtime/bfc_allocator.cc:1060] InUse at 7f2f20020500 of size 256 next 56\n",
      "2022-01-01 14:04:22.024956: I tensorflow/core/common_runtime/bfc_allocator.cc:1060] InUse at 7f2f20020600 of size 256 next 57\n",
      "2022-01-01 14:04:22.024973: I tensorflow/core/common_runtime/bfc_allocator.cc:1060] InUse at 7f2f20020700 of size 256 next 60\n",
      "2022-01-01 14:04:22.024989: I tensorflow/core/common_runtime/bfc_allocator.cc:1060] InUse at 7f2f20020800 of size 256 next 61\n",
      "2022-01-01 14:04:22.025006: I tensorflow/core/common_runtime/bfc_allocator.cc:1060] InUse at 7f2f20020900 of size 256 next 62\n",
      "2022-01-01 14:04:22.025023: I tensorflow/core/common_runtime/bfc_allocator.cc:1060] InUse at 7f2f20020a00 of size 256 next 63\n",
      "2022-01-01 14:04:22.025039: I tensorflow/core/common_runtime/bfc_allocator.cc:1060] InUse at 7f2f20020b00 of size 1024 next 65\n",
      "2022-01-01 14:04:22.025056: I tensorflow/core/common_runtime/bfc_allocator.cc:1060] InUse at 7f2f20020f00 of size 1024 next 66\n",
      "2022-01-01 14:04:22.025073: I tensorflow/core/common_runtime/bfc_allocator.cc:1060] InUse at 7f2f20021300 of size 1024 next 67\n",
      "2022-01-01 14:04:22.025090: I tensorflow/core/common_runtime/bfc_allocator.cc:1060] InUse at 7f2f20021700 of size 1024 next 68\n",
      "2022-01-01 14:04:22.025107: I tensorflow/core/common_runtime/bfc_allocator.cc:1060] InUse at 7f2f20021b00 of size 2048 next 69\n",
      "2022-01-01 14:04:22.025124: I tensorflow/core/common_runtime/bfc_allocator.cc:1060] InUse at 7f2f20022300 of size 2048 next 72\n",
      "2022-01-01 14:04:22.025140: I tensorflow/core/common_runtime/bfc_allocator.cc:1060] InUse at 7f2f20022b00 of size 2048 next 73\n",
      "2022-01-01 14:04:22.025157: I tensorflow/core/common_runtime/bfc_allocator.cc:1060] InUse at 7f2f20023300 of size 2048 next 74\n",
      "2022-01-01 14:04:22.025174: I tensorflow/core/common_runtime/bfc_allocator.cc:1060] InUse at 7f2f20023b00 of size 512 next 77\n",
      "2022-01-01 14:04:22.025191: I tensorflow/core/common_runtime/bfc_allocator.cc:1060] InUse at 7f2f20023d00 of size 512 next 78\n",
      "2022-01-01 14:04:22.025208: I tensorflow/core/common_runtime/bfc_allocator.cc:1060] InUse at 7f2f20023f00 of size 512 next 79\n",
      "2022-01-01 14:04:22.025224: I tensorflow/core/common_runtime/bfc_allocator.cc:1060] InUse at 7f2f20024100 of size 512 next 80\n",
      "2022-01-01 14:04:22.025241: I tensorflow/core/common_runtime/bfc_allocator.cc:1060] InUse at 7f2f20024300 of size 512 next 83\n",
      "2022-01-01 14:04:22.025258: I tensorflow/core/common_runtime/bfc_allocator.cc:1060] InUse at 7f2f20024500 of size 512 next 84\n",
      "2022-01-01 14:04:22.025274: I tensorflow/core/common_runtime/bfc_allocator.cc:1060] InUse at 7f2f20024700 of size 512 next 85\n",
      "2022-01-01 14:04:22.025291: I tensorflow/core/common_runtime/bfc_allocator.cc:1060] InUse at 7f2f20024900 of size 512 next 86\n",
      "2022-01-01 14:04:22.025308: I tensorflow/core/common_runtime/bfc_allocator.cc:1060] InUse at 7f2f20024b00 of size 2048 next 22\n",
      "2022-01-01 14:04:22.025327: I tensorflow/core/common_runtime/bfc_allocator.cc:1060] InUse at 7f2f20025300 of size 28672 next 15\n",
      "2022-01-01 14:04:22.025344: I tensorflow/core/common_runtime/bfc_allocator.cc:1060] InUse at 7f2f2002c300 of size 65536 next 16\n",
      "2022-01-01 14:04:22.025360: I tensorflow/core/common_runtime/bfc_allocator.cc:1060] InUse at 7f2f2003c300 of size 2048 next 87\n",
      "2022-01-01 14:04:22.025377: I tensorflow/core/common_runtime/bfc_allocator.cc:1060] InUse at 7f2f2003cb00 of size 2048 next 89\n",
      "2022-01-01 14:04:22.025394: I tensorflow/core/common_runtime/bfc_allocator.cc:1060] InUse at 7f2f2003d300 of size 2048 next 90\n",
      "2022-01-01 14:04:22.025411: I tensorflow/core/common_runtime/bfc_allocator.cc:1060] InUse at 7f2f2003db00 of size 512 next 91\n",
      "2022-01-01 14:04:22.025427: I tensorflow/core/common_runtime/bfc_allocator.cc:1060] InUse at 7f2f2003dd00 of size 512 next 93\n",
      "2022-01-01 14:04:22.025444: I tensorflow/core/common_runtime/bfc_allocator.cc:1060] InUse at 7f2f2003df00 of size 512 next 94\n",
      "2022-01-01 14:04:22.025460: I tensorflow/core/common_runtime/bfc_allocator.cc:1060] InUse at 7f2f2003e100 of size 512 next 95\n",
      "2022-01-01 14:04:22.025477: I tensorflow/core/common_runtime/bfc_allocator.cc:1060] InUse at 7f2f2003e300 of size 512 next 96\n",
      "2022-01-01 14:04:22.025493: I tensorflow/core/common_runtime/bfc_allocator.cc:1060] InUse at 7f2f2003e500 of size 512 next 99\n",
      "2022-01-01 14:04:22.025510: I tensorflow/core/common_runtime/bfc_allocator.cc:1060] InUse at 7f2f2003e700 of size 512 next 100\n",
      "2022-01-01 14:04:22.025527: I tensorflow/core/common_runtime/bfc_allocator.cc:1060] InUse at 7f2f2003e900 of size 512 next 101\n",
      "2022-01-01 14:04:22.025558: I tensorflow/core/common_runtime/bfc_allocator.cc:1060] InUse at 7f2f2003eb00 of size 2048 next 103\n",
      "2022-01-01 14:04:22.025577: I tensorflow/core/common_runtime/bfc_allocator.cc:1060] InUse at 7f2f2003f300 of size 2048 next 104\n",
      "2022-01-01 14:04:22.025594: I tensorflow/core/common_runtime/bfc_allocator.cc:1060] InUse at 7f2f2003fb00 of size 2048 next 105\n",
      "2022-01-01 14:04:22.025610: I tensorflow/core/common_runtime/bfc_allocator.cc:1060] InUse at 7f2f20040300 of size 2048 next 106\n",
      "2022-01-01 14:04:22.025627: I tensorflow/core/common_runtime/bfc_allocator.cc:1060] InUse at 7f2f20040b00 of size 512 next 108\n",
      "2022-01-01 14:04:22.025644: I tensorflow/core/common_runtime/bfc_allocator.cc:1060] InUse at 7f2f20040d00 of size 512 next 109\n",
      "2022-01-01 14:04:22.025661: I tensorflow/core/common_runtime/bfc_allocator.cc:1060] InUse at 7f2f20040f00 of size 512 next 110\n",
      "2022-01-01 14:04:22.025677: I tensorflow/core/common_runtime/bfc_allocator.cc:1060] InUse at 7f2f20041100 of size 512 next 111\n",
      "2022-01-01 14:04:22.025694: I tensorflow/core/common_runtime/bfc_allocator.cc:1060] InUse at 7f2f20041300 of size 512 next 114\n",
      "2022-01-01 14:04:22.025710: I tensorflow/core/common_runtime/bfc_allocator.cc:1060] InUse at 7f2f20041500 of size 512 next 115\n",
      "2022-01-01 14:04:22.025727: I tensorflow/core/common_runtime/bfc_allocator.cc:1060] InUse at 7f2f20041700 of size 512 next 116\n",
      "2022-01-01 14:04:22.025744: I tensorflow/core/common_runtime/bfc_allocator.cc:1060] InUse at 7f2f20041900 of size 512 next 117\n",
      "2022-01-01 14:04:22.025760: I tensorflow/core/common_runtime/bfc_allocator.cc:1060] InUse at 7f2f20041b00 of size 2048 next 119\n",
      "2022-01-01 14:04:22.025777: I tensorflow/core/common_runtime/bfc_allocator.cc:1060] InUse at 7f2f20042300 of size 2048 next 120\n",
      "2022-01-01 14:04:22.025793: I tensorflow/core/common_runtime/bfc_allocator.cc:1060] InUse at 7f2f20042b00 of size 2048 next 121\n",
      "2022-01-01 14:04:22.025810: I tensorflow/core/common_runtime/bfc_allocator.cc:1060] InUse at 7f2f20043300 of size 2048 next 122\n",
      "2022-01-01 14:04:22.025826: I tensorflow/core/common_runtime/bfc_allocator.cc:1060] InUse at 7f2f20043b00 of size 512 next 123\n",
      "2022-01-01 14:04:22.025843: I tensorflow/core/common_runtime/bfc_allocator.cc:1060] InUse at 7f2f20043d00 of size 512 next 124\n",
      "2022-01-01 14:04:22.025859: I tensorflow/core/common_runtime/bfc_allocator.cc:1060] InUse at 7f2f20043f00 of size 512 next 125\n",
      "2022-01-01 14:04:22.025875: I tensorflow/core/common_runtime/bfc_allocator.cc:1060] InUse at 7f2f20044100 of size 512 next 126\n",
      "2022-01-01 14:04:22.025892: I tensorflow/core/common_runtime/bfc_allocator.cc:1060] InUse at 7f2f20044300 of size 512 next 129\n",
      "2022-01-01 14:04:22.025909: I tensorflow/core/common_runtime/bfc_allocator.cc:1060] InUse at 7f2f20044500 of size 512 next 130\n",
      "2022-01-01 14:04:22.025925: I tensorflow/core/common_runtime/bfc_allocator.cc:1060] InUse at 7f2f20044700 of size 512 next 131\n",
      "2022-01-01 14:04:22.025942: I tensorflow/core/common_runtime/bfc_allocator.cc:1060] InUse at 7f2f20044900 of size 512 next 132\n",
      "2022-01-01 14:04:22.025958: I tensorflow/core/common_runtime/bfc_allocator.cc:1060] InUse at 7f2f20044b00 of size 2048 next 134\n",
      "2022-01-01 14:04:22.025975: I tensorflow/core/common_runtime/bfc_allocator.cc:1060] InUse at 7f2f20045300 of size 2048 next 135\n",
      "2022-01-01 14:04:22.025991: I tensorflow/core/common_runtime/bfc_allocator.cc:1060] InUse at 7f2f20045b00 of size 2048 next 136\n",
      "2022-01-01 14:04:22.026008: I tensorflow/core/common_runtime/bfc_allocator.cc:1060] InUse at 7f2f20046300 of size 2048 next 137\n",
      "2022-01-01 14:04:22.026024: I tensorflow/core/common_runtime/bfc_allocator.cc:1060] InUse at 7f2f20046b00 of size 4096 next 138\n",
      "2022-01-01 14:04:22.026040: I tensorflow/core/common_runtime/bfc_allocator.cc:1060] InUse at 7f2f20047b00 of size 4096 next 141\n",
      "2022-01-01 14:04:22.026057: I tensorflow/core/common_runtime/bfc_allocator.cc:1060] InUse at 7f2f20048b00 of size 4096 next 142\n",
      "2022-01-01 14:04:22.026073: I tensorflow/core/common_runtime/bfc_allocator.cc:1060] InUse at 7f2f20049b00 of size 4096 next 143\n",
      "2022-01-01 14:04:22.026090: I tensorflow/core/common_runtime/bfc_allocator.cc:1060] InUse at 7f2f2004ab00 of size 1024 next 146\n",
      "2022-01-01 14:04:22.026106: I tensorflow/core/common_runtime/bfc_allocator.cc:1060] InUse at 7f2f2004af00 of size 1024 next 147\n",
      "2022-01-01 14:04:22.026123: I tensorflow/core/common_runtime/bfc_allocator.cc:1060] InUse at 7f2f2004b300 of size 1024 next 148\n",
      "2022-01-01 14:04:22.026139: I tensorflow/core/common_runtime/bfc_allocator.cc:1060] InUse at 7f2f2004b700 of size 1024 next 149\n",
      "2022-01-01 14:04:22.026156: I tensorflow/core/common_runtime/bfc_allocator.cc:1060] InUse at 7f2f2004bb00 of size 1024 next 152\n",
      "2022-01-01 14:04:22.026172: I tensorflow/core/common_runtime/bfc_allocator.cc:1060] InUse at 7f2f2004bf00 of size 1024 next 32\n",
      "2022-01-01 14:04:22.026189: I tensorflow/core/common_runtime/bfc_allocator.cc:1060] InUse at 7f2f2004c300 of size 65536 next 33\n",
      "2022-01-01 14:04:22.026205: I tensorflow/core/common_runtime/bfc_allocator.cc:1060] InUse at 7f2f2005c300 of size 65536 next 38\n",
      "2022-01-01 14:04:22.026222: I tensorflow/core/common_runtime/bfc_allocator.cc:1060] InUse at 7f2f2006c300 of size 98304 next 27\n",
      "2022-01-01 14:04:22.026239: I tensorflow/core/common_runtime/bfc_allocator.cc:1060] InUse at 7f2f20084300 of size 147456 next 28\n",
      "2022-01-01 14:04:22.026255: I tensorflow/core/common_runtime/bfc_allocator.cc:1060] InUse at 7f2f200a8300 of size 65536 next 53\n",
      "2022-01-01 14:04:22.026272: I tensorflow/core/common_runtime/bfc_allocator.cc:1060] Free  at 7f2f200b8300 of size 229376 next 44\n",
      "2022-01-01 14:04:22.026288: I tensorflow/core/common_runtime/bfc_allocator.cc:1060] InUse at 7f2f200f0300 of size 147456 next 45\n",
      "2022-01-01 14:04:22.026305: I tensorflow/core/common_runtime/bfc_allocator.cc:1060] InUse at 7f2f20114300 of size 65536 next 64\n",
      "2022-01-01 14:04:22.026321: I tensorflow/core/common_runtime/bfc_allocator.cc:1060] InUse at 7f2f20124300 of size 1024 next 199\n",
      "2022-01-01 14:04:22.026338: I tensorflow/core/common_runtime/bfc_allocator.cc:1060] InUse at 7f2f20124700 of size 1024 next 200\n",
      "2022-01-01 14:04:22.026354: I tensorflow/core/common_runtime/bfc_allocator.cc:1060] InUse at 7f2f20124b00 of size 4096 next 202\n",
      "2022-01-01 14:04:22.026371: I tensorflow/core/common_runtime/bfc_allocator.cc:1060] InUse at 7f2f20125b00 of size 4096 next 203\n",
      "2022-01-01 14:04:22.026387: I tensorflow/core/common_runtime/bfc_allocator.cc:1060] InUse at 7f2f20126b00 of size 4096 next 204\n",
      "2022-01-01 14:04:22.026404: I tensorflow/core/common_runtime/bfc_allocator.cc:1060] InUse at 7f2f20127b00 of size 4096 next 205\n",
      "2022-01-01 14:04:22.026420: I tensorflow/core/common_runtime/bfc_allocator.cc:1060] InUse at 7f2f20128b00 of size 1024 next 206\n",
      "2022-01-01 14:04:22.026437: I tensorflow/core/common_runtime/bfc_allocator.cc:1060] InUse at 7f2f20128f00 of size 1024 next 207\n",
      "2022-01-01 14:04:22.026453: I tensorflow/core/common_runtime/bfc_allocator.cc:1060] InUse at 7f2f20129300 of size 1024 next 208\n",
      "2022-01-01 14:04:22.026470: I tensorflow/core/common_runtime/bfc_allocator.cc:1060] InUse at 7f2f20129700 of size 1024 next 209\n",
      "2022-01-01 14:04:22.026486: I tensorflow/core/common_runtime/bfc_allocator.cc:1060] InUse at 7f2f20129b00 of size 1024 next 212\n",
      "2022-01-01 14:04:22.026502: I tensorflow/core/common_runtime/bfc_allocator.cc:1060] InUse at 7f2f20129f00 of size 1024 next 213\n",
      "2022-01-01 14:04:22.026519: I tensorflow/core/common_runtime/bfc_allocator.cc:1060] InUse at 7f2f2012a300 of size 1024 next 214\n",
      "2022-01-01 14:04:22.026535: I tensorflow/core/common_runtime/bfc_allocator.cc:1060] InUse at 7f2f2012a700 of size 1024 next 215\n",
      "2022-01-01 14:04:22.026551: I tensorflow/core/common_runtime/bfc_allocator.cc:1060] InUse at 7f2f2012ab00 of size 4096 next 217\n",
      "2022-01-01 14:04:22.026568: I tensorflow/core/common_runtime/bfc_allocator.cc:1060] InUse at 7f2f2012bb00 of size 4096 next 218\n",
      "2022-01-01 14:04:22.026584: I tensorflow/core/common_runtime/bfc_allocator.cc:1060] InUse at 7f2f2012cb00 of size 4096 next 219\n",
      "2022-01-01 14:04:22.026601: I tensorflow/core/common_runtime/bfc_allocator.cc:1060] InUse at 7f2f2012db00 of size 4096 next 220\n",
      "2022-01-01 14:04:22.026617: I tensorflow/core/common_runtime/bfc_allocator.cc:1060] InUse at 7f2f2012eb00 of size 1024 next 221\n",
      "2022-01-01 14:04:22.026633: I tensorflow/core/common_runtime/bfc_allocator.cc:1060] InUse at 7f2f2012ef00 of size 1024 next 222\n",
      "2022-01-01 14:04:22.026650: I tensorflow/core/common_runtime/bfc_allocator.cc:1060] InUse at 7f2f2012f300 of size 1024 next 223\n",
      "2022-01-01 14:04:22.026666: I tensorflow/core/common_runtime/bfc_allocator.cc:1060] InUse at 7f2f2012f700 of size 1024 next 224\n",
      "2022-01-01 14:04:22.026682: I tensorflow/core/common_runtime/bfc_allocator.cc:1060] InUse at 7f2f2012fb00 of size 1024 next 227\n",
      "2022-01-01 14:04:22.026698: I tensorflow/core/common_runtime/bfc_allocator.cc:1060] InUse at 7f2f2012ff00 of size 1024 next 228\n",
      "2022-01-01 14:04:22.026715: I tensorflow/core/common_runtime/bfc_allocator.cc:1060] InUse at 7f2f20130300 of size 1024 next 229\n",
      "2022-01-01 14:04:22.026731: I tensorflow/core/common_runtime/bfc_allocator.cc:1060] InUse at 7f2f20130700 of size 1024 next 230\n",
      "2022-01-01 14:04:22.026748: I tensorflow/core/common_runtime/bfc_allocator.cc:1060] InUse at 7f2f20130b00 of size 4096 next 232\n",
      "2022-01-01 14:04:22.026764: I tensorflow/core/common_runtime/bfc_allocator.cc:1060] InUse at 7f2f20131b00 of size 4096 next 233\n",
      "2022-01-01 14:04:22.026781: I tensorflow/core/common_runtime/bfc_allocator.cc:1060] InUse at 7f2f20132b00 of size 4096 next 234\n",
      "2022-01-01 14:04:22.026797: I tensorflow/core/common_runtime/bfc_allocator.cc:1060] InUse at 7f2f20133b00 of size 4096 next 235\n",
      "2022-01-01 14:04:22.026814: I tensorflow/core/common_runtime/bfc_allocator.cc:1060] InUse at 7f2f20134b00 of size 14336 next 58\n",
      "2022-01-01 14:04:22.026830: I tensorflow/core/common_runtime/bfc_allocator.cc:1060] InUse at 7f2f20138300 of size 147456 next 59\n",
      "2022-01-01 14:04:22.026847: I tensorflow/core/common_runtime/bfc_allocator.cc:1060] InUse at 7f2f2015c300 of size 8192 next 236\n",
      "2022-01-01 14:04:22.026864: I tensorflow/core/common_runtime/bfc_allocator.cc:1060] InUse at 7f2f2015e300 of size 8192 next 239\n",
      "2022-01-01 14:04:22.026880: I tensorflow/core/common_runtime/bfc_allocator.cc:1060] InUse at 7f2f20160300 of size 8192 next 240\n",
      "2022-01-01 14:04:22.026896: I tensorflow/core/common_runtime/bfc_allocator.cc:1060] InUse at 7f2f20162300 of size 2048 next 243\n",
      "2022-01-01 14:04:22.026913: I tensorflow/core/common_runtime/bfc_allocator.cc:1060] InUse at 7f2f20162b00 of size 2048 next 244\n",
      "2022-01-01 14:04:22.026929: I tensorflow/core/common_runtime/bfc_allocator.cc:1060] InUse at 7f2f20163300 of size 2048 next 245\n",
      "2022-01-01 14:04:22.026946: I tensorflow/core/common_runtime/bfc_allocator.cc:1060] InUse at 7f2f20163b00 of size 2048 next 246\n",
      "2022-01-01 14:04:22.026962: I tensorflow/core/common_runtime/bfc_allocator.cc:1060] InUse at 7f2f20164300 of size 2048 next 249\n",
      "2022-01-01 14:04:22.026978: I tensorflow/core/common_runtime/bfc_allocator.cc:1060] InUse at 7f2f20164b00 of size 2048 next 250\n",
      "2022-01-01 14:04:22.026995: I tensorflow/core/common_runtime/bfc_allocator.cc:1060] InUse at 7f2f20165300 of size 2048 next 251\n",
      "2022-01-01 14:04:22.027011: I tensorflow/core/common_runtime/bfc_allocator.cc:1060] InUse at 7f2f20165b00 of size 2048 next 252\n",
      "2022-01-01 14:04:22.027028: I tensorflow/core/common_runtime/bfc_allocator.cc:1060] InUse at 7f2f20166300 of size 8192 next 253\n",
      "2022-01-01 14:04:22.027044: I tensorflow/core/common_runtime/bfc_allocator.cc:1060] InUse at 7f2f20168300 of size 8192 next 255\n",
      "2022-01-01 14:04:22.027061: I tensorflow/core/common_runtime/bfc_allocator.cc:1060] InUse at 7f2f2016a300 of size 8192 next 256\n",
      "2022-01-01 14:04:22.027077: I tensorflow/core/common_runtime/bfc_allocator.cc:1060] InUse at 7f2f2016c300 of size 8192 next 257\n",
      "2022-01-01 14:04:22.027094: I tensorflow/core/common_runtime/bfc_allocator.cc:1060] InUse at 7f2f2016e300 of size 2048 next 258\n",
      "2022-01-01 14:04:22.027110: I tensorflow/core/common_runtime/bfc_allocator.cc:1060] InUse at 7f2f2016eb00 of size 2048 next 260\n",
      "2022-01-01 14:04:22.027126: I tensorflow/core/common_runtime/bfc_allocator.cc:1060] InUse at 7f2f2016f300 of size 2048 next 261\n",
      "2022-01-01 14:04:22.027143: I tensorflow/core/common_runtime/bfc_allocator.cc:1060] InUse at 7f2f2016fb00 of size 2048 next 262\n",
      "2022-01-01 14:04:22.027159: I tensorflow/core/common_runtime/bfc_allocator.cc:1060] InUse at 7f2f20170300 of size 2048 next 263\n",
      "2022-01-01 14:04:22.027176: I tensorflow/core/common_runtime/bfc_allocator.cc:1060] InUse at 7f2f20170b00 of size 2048 next 265\n",
      "2022-01-01 14:04:22.027192: I tensorflow/core/common_runtime/bfc_allocator.cc:1060] InUse at 7f2f20171300 of size 2048 next 266\n",
      "2022-01-01 14:04:22.027208: I tensorflow/core/common_runtime/bfc_allocator.cc:1060] InUse at 7f2f20171b00 of size 2048 next 267\n",
      "2022-01-01 14:04:22.027225: I tensorflow/core/common_runtime/bfc_allocator.cc:1060] InUse at 7f2f20172300 of size 8192 next 269\n",
      "2022-01-01 14:04:22.027241: I tensorflow/core/common_runtime/bfc_allocator.cc:1060] InUse at 7f2f20174300 of size 8192 next 270\n",
      "2022-01-01 14:04:22.027258: I tensorflow/core/common_runtime/bfc_allocator.cc:1060] InUse at 7f2f20176300 of size 8192 next 271\n",
      "2022-01-01 14:04:22.027274: I tensorflow/core/common_runtime/bfc_allocator.cc:1060] InUse at 7f2f20178300 of size 8192 next 272\n",
      "2022-01-01 14:04:22.027291: I tensorflow/core/common_runtime/bfc_allocator.cc:1060] InUse at 7f2f2017a300 of size 2048 next 274\n",
      "2022-01-01 14:04:22.027307: I tensorflow/core/common_runtime/bfc_allocator.cc:1060] InUse at 7f2f2017ab00 of size 2048 next 275\n",
      "2022-01-01 14:04:22.027324: I tensorflow/core/common_runtime/bfc_allocator.cc:1060] InUse at 7f2f2017b300 of size 2048 next 276\n",
      "2022-01-01 14:04:22.027340: I tensorflow/core/common_runtime/bfc_allocator.cc:1060] InUse at 7f2f2017bb00 of size 2048 next 75\n",
      "2022-01-01 14:04:22.027357: I tensorflow/core/common_runtime/bfc_allocator.cc:1060] InUse at 7f2f2017c300 of size 131072 next 76\n",
      "2022-01-01 14:04:22.027374: I tensorflow/core/common_runtime/bfc_allocator.cc:1060] InUse at 7f2f2019c300 of size 262144 next 88\n",
      "2022-01-01 14:04:22.027390: I tensorflow/core/common_runtime/bfc_allocator.cc:1060] Free  at 7f2f201dc300 of size 262144 next 102\n",
      "2022-01-01 14:04:22.027406: I tensorflow/core/common_runtime/bfc_allocator.cc:1060] InUse at 7f2f2021c300 of size 262144 next 70\n",
      "2022-01-01 14:04:22.027424: I tensorflow/core/common_runtime/bfc_allocator.cc:1060] InUse at 7f2f2025c300 of size 524288 next 71\n",
      "2022-01-01 14:04:22.027440: I tensorflow/core/common_runtime/bfc_allocator.cc:1060] InUse at 7f2f202dc300 of size 262144 next 92\n",
      "2022-01-01 14:04:22.027457: I tensorflow/core/common_runtime/bfc_allocator.cc:1060] Free  at 7f2f2031c300 of size 327680 next 81\n",
      "2022-01-01 14:04:22.027474: I tensorflow/core/common_runtime/bfc_allocator.cc:1060] InUse at 7f2f2036c300 of size 589824 next 82\n",
      "2022-01-01 14:04:22.027490: I tensorflow/core/common_runtime/bfc_allocator.cc:1060] InUse at 7f2f203fc300 of size 262144 next 107\n",
      "2022-01-01 14:04:22.027506: I tensorflow/core/common_runtime/bfc_allocator.cc:1060] Free  at 7f2f2043c300 of size 917504 next 97\n",
      "2022-01-01 14:04:22.027522: I tensorflow/core/common_runtime/bfc_allocator.cc:1060] InUse at 7f2f2051c300 of size 589824 next 98\n",
      "2022-01-01 14:04:22.027539: I tensorflow/core/common_runtime/bfc_allocator.cc:1060] InUse at 7f2f205ac300 of size 262144 next 118\n",
      "2022-01-01 14:04:22.027556: I tensorflow/core/common_runtime/bfc_allocator.cc:1060] InUse at 7f2f205ec300 of size 327680 next 112\n",
      "2022-01-01 14:04:22.027572: I tensorflow/core/common_runtime/bfc_allocator.cc:1060] InUse at 7f2f2063c300 of size 589824 next 113\n",
      "2022-01-01 14:04:22.027588: I tensorflow/core/common_runtime/bfc_allocator.cc:1060] InUse at 7f2f206cc300 of size 262144 next 133\n",
      "2022-01-01 14:04:22.027605: I tensorflow/core/common_runtime/bfc_allocator.cc:1060] Free  at 7f2f2070c300 of size 327680 next 127\n",
      "2022-01-01 14:04:22.027621: I tensorflow/core/common_runtime/bfc_allocator.cc:1060] InUse at 7f2f2075c300 of size 589824 next 128\n",
      "2022-01-01 14:04:22.027637: I tensorflow/core/common_runtime/bfc_allocator.cc:1060] Free  at 7f2f207ec300 of size 524288 next 144\n",
      "2022-01-01 14:04:22.027654: I tensorflow/core/common_runtime/bfc_allocator.cc:1060] InUse at 7f2f2086c300 of size 524288 next 145\n",
      "2022-01-01 14:04:22.027670: I tensorflow/core/common_runtime/bfc_allocator.cc:1060] InUse at 7f2f208ec300 of size 1048576 next 156\n",
      "2022-01-01 14:04:22.027687: I tensorflow/core/common_runtime/bfc_allocator.cc:1060] Free  at 7f2f209ec300 of size 1048576 next 171\n",
      "2022-01-01 14:04:22.027703: I tensorflow/core/common_runtime/bfc_allocator.cc:1060] InUse at 7f2f20aec300 of size 1048576 next 139\n",
      "2022-01-01 14:04:22.027720: I tensorflow/core/common_runtime/bfc_allocator.cc:1060] InUse at 7f2f20bec300 of size 2097152 next 140\n",
      "2022-01-01 14:04:22.027736: I tensorflow/core/common_runtime/bfc_allocator.cc:1060] InUse at 7f2f20dec300 of size 1048576 next 161\n",
      "2022-01-01 14:04:22.027753: I tensorflow/core/common_runtime/bfc_allocator.cc:1060] Free  at 7f2f20eec300 of size 1310720 next 150\n",
      "2022-01-01 14:04:22.027770: I tensorflow/core/common_runtime/bfc_allocator.cc:1060] InUse at 7f2f2102c300 of size 2359296 next 151\n",
      "2022-01-01 14:04:22.027786: I tensorflow/core/common_runtime/bfc_allocator.cc:1060] InUse at 7f2f2126c300 of size 1048576 next 176\n",
      "2022-01-01 14:04:22.027803: I tensorflow/core/common_runtime/bfc_allocator.cc:1060] Free  at 7f2f2136c300 of size 3670016 next 166\n",
      "2022-01-01 14:04:22.027819: I tensorflow/core/common_runtime/bfc_allocator.cc:1060] InUse at 7f2f216ec300 of size 2359296 next 167\n",
      "2022-01-01 14:04:22.027835: I tensorflow/core/common_runtime/bfc_allocator.cc:1060] InUse at 7f2f2192c300 of size 1048576 next 187\n",
      "2022-01-01 14:04:22.027852: I tensorflow/core/common_runtime/bfc_allocator.cc:1060] InUse at 7f2f21a2c300 of size 1310720 next 181\n",
      "2022-01-01 14:04:22.027869: I tensorflow/core/common_runtime/bfc_allocator.cc:1060] InUse at 7f2f21b6c300 of size 2359296 next 182\n",
      "2022-01-01 14:04:22.027885: I tensorflow/core/common_runtime/bfc_allocator.cc:1060] InUse at 7f2f21dac300 of size 1048576 next 201\n",
      "2022-01-01 14:04:22.027901: I tensorflow/core/common_runtime/bfc_allocator.cc:1060] InUse at 7f2f21eac300 of size 1310720 next 196\n",
      "2022-01-01 14:04:22.027918: I tensorflow/core/common_runtime/bfc_allocator.cc:1060] InUse at 7f2f21fec300 of size 2359296 next 197\n",
      "2022-01-01 14:04:22.027934: I tensorflow/core/common_runtime/bfc_allocator.cc:1060] InUse at 7f2f2222c300 of size 1048576 next 216\n",
      "2022-01-01 14:04:22.027950: I tensorflow/core/common_runtime/bfc_allocator.cc:1060] InUse at 7f2f2232c300 of size 1310720 next 210\n",
      "2022-01-01 14:04:22.027966: I tensorflow/core/common_runtime/bfc_allocator.cc:1060] InUse at 7f2f2246c300 of size 2359296 next 211\n",
      "2022-01-01 14:04:22.027983: I tensorflow/core/common_runtime/bfc_allocator.cc:1060] InUse at 7f2f226ac300 of size 1048576 next 231\n",
      "2022-01-01 14:04:22.027999: I tensorflow/core/common_runtime/bfc_allocator.cc:1060] Free  at 7f2f227ac300 of size 1310720 next 225\n",
      "2022-01-01 14:04:22.028015: I tensorflow/core/common_runtime/bfc_allocator.cc:1060] InUse at 7f2f228ec300 of size 2359296 next 226\n",
      "2022-01-01 14:04:22.028031: I tensorflow/core/common_runtime/bfc_allocator.cc:1060] Free  at 7f2f22b2c300 of size 2097152 next 241\n",
      "2022-01-01 14:04:22.028048: I tensorflow/core/common_runtime/bfc_allocator.cc:1060] InUse at 7f2f22d2c300 of size 2097152 next 242\n",
      "2022-01-01 14:04:22.028065: I tensorflow/core/common_runtime/bfc_allocator.cc:1060] InUse at 7f2f22f2c300 of size 4194304 next 254\n",
      "2022-01-01 14:04:22.028081: I tensorflow/core/common_runtime/bfc_allocator.cc:1060] Free  at 7f2f2332c300 of size 4194304 next 268\n",
      "2022-01-01 14:04:22.028097: I tensorflow/core/common_runtime/bfc_allocator.cc:1060] InUse at 7f2f2372c300 of size 4194304 next 237\n",
      "2022-01-01 14:04:22.028114: I tensorflow/core/common_runtime/bfc_allocator.cc:1060] InUse at 7f2f23b2c300 of size 8388608 next 238\n",
      "2022-01-01 14:04:22.028130: I tensorflow/core/common_runtime/bfc_allocator.cc:1060] InUse at 7f2f2432c300 of size 4194304 next 259\n",
      "2022-01-01 14:04:22.028147: I tensorflow/core/common_runtime/bfc_allocator.cc:1060] Free  at 7f2f2472c300 of size 5242880 next 247\n",
      "2022-01-01 14:04:22.028163: I tensorflow/core/common_runtime/bfc_allocator.cc:1060] InUse at 7f2f24c2c300 of size 9437184 next 248\n",
      "2022-01-01 14:04:22.028180: I tensorflow/core/common_runtime/bfc_allocator.cc:1060] InUse at 7f2f2552c300 of size 4194304 next 273\n",
      "2022-01-01 14:04:22.028197: I tensorflow/core/common_runtime/bfc_allocator.cc:1060] InUse at 7f2f2592c300 of size 14680064 next 264\n",
      "2022-01-01 14:04:22.028214: I tensorflow/core/common_runtime/bfc_allocator.cc:1060] InUse at 7f2f2672c300 of size 11943168 next 18446744073709551615\n",
      "2022-01-01 14:04:22.028231: I tensorflow/core/common_runtime/bfc_allocator.cc:1065]      Summary of in-use Chunks by size: \n",
      "2022-01-01 14:04:22.028253: I tensorflow/core/common_runtime/bfc_allocator.cc:1068] 35 Chunks of size 256 totalling 8.8KiB\n",
      "2022-01-01 14:04:22.028275: I tensorflow/core/common_runtime/bfc_allocator.cc:1068] 32 Chunks of size 512 totalling 16.0KiB\n",
      "2022-01-01 14:04:22.028295: I tensorflow/core/common_runtime/bfc_allocator.cc:1068] 64 Chunks of size 1024 totalling 64.0KiB\n",
      "2022-01-01 14:04:22.028315: I tensorflow/core/common_runtime/bfc_allocator.cc:1068] 1 Chunks of size 1280 totalling 1.2KiB\n",
      "2022-01-01 14:04:22.028335: I tensorflow/core/common_runtime/bfc_allocator.cc:1068] 40 Chunks of size 2048 totalling 80.0KiB\n",
      "2022-01-01 14:04:22.028355: I tensorflow/core/common_runtime/bfc_allocator.cc:1068] 28 Chunks of size 4096 totalling 112.0KiB\n",
      "2022-01-01 14:04:22.028375: I tensorflow/core/common_runtime/bfc_allocator.cc:1068] 11 Chunks of size 8192 totalling 88.0KiB\n",
      "2022-01-01 14:04:22.028395: I tensorflow/core/common_runtime/bfc_allocator.cc:1068] 1 Chunks of size 14336 totalling 14.0KiB\n",
      "2022-01-01 14:04:22.028415: I tensorflow/core/common_runtime/bfc_allocator.cc:1068] 1 Chunks of size 28672 totalling 28.0KiB\n",
      "2022-01-01 14:04:22.028435: I tensorflow/core/common_runtime/bfc_allocator.cc:1068] 1 Chunks of size 37632 totalling 36.8KiB\n",
      "2022-01-01 14:04:22.028455: I tensorflow/core/common_runtime/bfc_allocator.cc:1068] 5 Chunks of size 65536 totalling 320.0KiB\n",
      "2022-01-01 14:04:22.028475: I tensorflow/core/common_runtime/bfc_allocator.cc:1068] 1 Chunks of size 98304 totalling 96.0KiB\n",
      "2022-01-01 14:04:22.028495: I tensorflow/core/common_runtime/bfc_allocator.cc:1068] 1 Chunks of size 131072 totalling 128.0KiB\n",
      "2022-01-01 14:04:22.028515: I tensorflow/core/common_runtime/bfc_allocator.cc:1068] 3 Chunks of size 147456 totalling 432.0KiB\n",
      "2022-01-01 14:04:22.028534: I tensorflow/core/common_runtime/bfc_allocator.cc:1068] 6 Chunks of size 262144 totalling 1.50MiB\n",
      "2022-01-01 14:04:22.028554: I tensorflow/core/common_runtime/bfc_allocator.cc:1068] 1 Chunks of size 327680 totalling 320.0KiB\n",
      "2022-01-01 14:04:22.028573: I tensorflow/core/common_runtime/bfc_allocator.cc:1068] 2 Chunks of size 524288 totalling 1.00MiB\n",
      "2022-01-01 14:04:22.028592: I tensorflow/core/common_runtime/bfc_allocator.cc:1068] 4 Chunks of size 589824 totalling 2.25MiB\n",
      "2022-01-01 14:04:22.028612: I tensorflow/core/common_runtime/bfc_allocator.cc:1068] 8 Chunks of size 1048576 totalling 8.00MiB\n",
      "2022-01-01 14:04:22.028631: I tensorflow/core/common_runtime/bfc_allocator.cc:1068] 3 Chunks of size 1310720 totalling 3.75MiB\n",
      "2022-01-01 14:04:22.028650: I tensorflow/core/common_runtime/bfc_allocator.cc:1068] 2 Chunks of size 2097152 totalling 4.00MiB\n",
      "2022-01-01 14:04:22.028670: I tensorflow/core/common_runtime/bfc_allocator.cc:1068] 6 Chunks of size 2359296 totalling 13.50MiB\n",
      "2022-01-01 14:04:22.028689: I tensorflow/core/common_runtime/bfc_allocator.cc:1068] 4 Chunks of size 4194304 totalling 16.00MiB\n",
      "2022-01-01 14:04:22.028709: I tensorflow/core/common_runtime/bfc_allocator.cc:1068] 1 Chunks of size 8388608 totalling 8.00MiB\n",
      "2022-01-01 14:04:22.028728: I tensorflow/core/common_runtime/bfc_allocator.cc:1068] 1 Chunks of size 9437184 totalling 9.00MiB\n",
      "2022-01-01 14:04:22.028748: I tensorflow/core/common_runtime/bfc_allocator.cc:1068] 1 Chunks of size 11943168 totalling 11.39MiB\n",
      "2022-01-01 14:04:22.028767: I tensorflow/core/common_runtime/bfc_allocator.cc:1068] 1 Chunks of size 14680064 totalling 14.00MiB\n",
      "2022-01-01 14:04:22.028787: I tensorflow/core/common_runtime/bfc_allocator.cc:1072] Sum Total of in-use chunks: 94.09MiB\n",
      "2022-01-01 14:04:22.028804: I tensorflow/core/common_runtime/bfc_allocator.cc:1074] total_region_allocated_bytes_: 120127488 memory_limit_: 120127488 available bytes: 0 curr_region_allocation_bytes_: 240254976\n",
      "2022-01-01 14:04:22.028828: I tensorflow/core/common_runtime/bfc_allocator.cc:1080] Stats: \n",
      "Limit:                       120127488\n",
      "InUse:                        98664448\n",
      "MaxInUse:                     98664448\n",
      "NumAllocs:                         367\n",
      "MaxAllocSize:                 14680064\n",
      "Reserved:                            0\n",
      "PeakReserved:                        0\n",
      "LargestFreeBlock:                    0\n",
      "\n",
      "2022-01-01 14:04:22.028874: W tensorflow/core/common_runtime/bfc_allocator.cc:468] *****************___******************_******___***************___********************xxxx********xx\n",
      "2022-01-01 14:04:22.028917: W tensorflow/core/framework/op_kernel.cc:1680] Resource exhausted: failed to allocate memory\n"
     ]
    },
    {
     "name": "stdout",
     "output_type": "stream",
     "text": [
      "Traceback (most recent call last):\r\n",
      "  File \"Tensorflow/models/research/object_detection/export_tflite_graph_tf2.py\", line 161, in <module>\r\n",
      "    app.run(main)\r\n",
      "  File \"/home/vajicek/.local/lib/python3.8/site-packages/absl/app.py\", line 303, in run\r\n",
      "    _run_main(main, args)\r\n",
      "  File \"/home/vajicek/.local/lib/python3.8/site-packages/absl/app.py\", line 251, in _run_main\r\n",
      "    sys.exit(main(argv))\r\n",
      "  File \"Tensorflow/models/research/object_detection/export_tflite_graph_tf2.py\", line 154, in main\r\n",
      "    export_tflite_graph_lib_tf2.export_tflite_model(\r\n",
      "  File \"/home/vajicek/.local/lib/python3.8/site-packages/object_detection/export_tflite_graph_lib_tf2.py\", line 366, in export_tflite_model\r\n",
      "    concrete_function = detection_module.inference_fn.get_concrete_function(\r\n",
      "  File \"/home/vajicek/.local/lib/python3.8/site-packages/tensorflow/python/eager/def_function.py\", line 1233, in get_concrete_function\r\n",
      "    concrete = self._get_concrete_function_garbage_collected(*args, **kwargs)\r\n",
      "  File \"/home/vajicek/.local/lib/python3.8/site-packages/tensorflow/python/eager/def_function.py\", line 1213, in _get_concrete_function_garbage_collected\r\n",
      "    self._initialize(args, kwargs, add_initializers_to=initializers)\r\n",
      "  File \"/home/vajicek/.local/lib/python3.8/site-packages/tensorflow/python/eager/def_function.py\", line 759, in _initialize\r\n",
      "    self._stateful_fn._get_concrete_function_internal_garbage_collected(  # pylint: disable=protected-access\r\n",
      "  File \"/home/vajicek/.local/lib/python3.8/site-packages/tensorflow/python/eager/function.py\", line 3066, in _get_concrete_function_internal_garbage_collected\r\n",
      "    graph_function, _ = self._maybe_define_function(args, kwargs)\r\n",
      "  File \"/home/vajicek/.local/lib/python3.8/site-packages/tensorflow/python/eager/function.py\", line 3463, in _maybe_define_function\r\n",
      "    graph_function = self._create_graph_function(args, kwargs)\r\n",
      "  File \"/home/vajicek/.local/lib/python3.8/site-packages/tensorflow/python/eager/function.py\", line 3298, in _create_graph_function\r\n",
      "    func_graph_module.func_graph_from_py_func(\r\n",
      "  File \"/home/vajicek/.local/lib/python3.8/site-packages/tensorflow/python/framework/func_graph.py\", line 1007, in func_graph_from_py_func\r\n",
      "    func_outputs = python_func(*func_args, **func_kwargs)\r\n",
      "  File \"/home/vajicek/.local/lib/python3.8/site-packages/tensorflow/python/eager/def_function.py\", line 668, in wrapped_fn\r\n",
      "    out = weak_wrapped_fn().__wrapped__(*args, **kwds)\r\n",
      "  File \"/home/vajicek/.local/lib/python3.8/site-packages/tensorflow/python/eager/function.py\", line 3990, in bound_method_wrapper\r\n",
      "    return wrapped_fn(*args, **kwargs)\r\n",
      "  File \"/home/vajicek/.local/lib/python3.8/site-packages/tensorflow/python/framework/func_graph.py\", line 994, in wrapper\r\n",
      "    raise e.ag_error_metadata.to_exception(e)\r\n",
      "tensorflow.python.framework.errors_impl.ResourceExhaustedError: in user code:\r\n",
      "\r\n",
      "    /home/vajicek/.local/lib/python3.8/site-packages/object_detection/export_tflite_graph_lib_tf2.py:170 inference_fn  *\r\n",
      "        predicted_tensors = self._model.predict(image, true_image_shapes=None)\r\n",
      "    /home/vajicek/.local/lib/python3.8/site-packages/object_detection/meta_architectures/ssd_meta_arch.py:570 predict  *\r\n",
      "        feature_maps = self._feature_extractor(preprocessed_inputs)\r\n",
      "    /home/vajicek/.local/lib/python3.8/site-packages/keras/engine/base_layer.py:1030 __call__  **\r\n",
      "        self._maybe_build(inputs)\r\n",
      "    /home/vajicek/.local/lib/python3.8/site-packages/keras/engine/base_layer.py:2659 _maybe_build\r\n",
      "        self.build(input_shapes)  # pylint:disable=not-callable\r\n",
      "    /home/vajicek/.local/lib/python3.8/site-packages/object_detection/models/ssd_resnet_v1_fpn_keras_feature_extractor.py:136 build\r\n",
      "        full_resnet_v1_model = self._resnet_v1_base_model(\r\n",
      "    /home/vajicek/.local/lib/python3.8/site-packages/object_detection/models/keras_models/resnet_v1.py:303 resnet_v1_50\r\n",
      "        return tf.keras.applications.resnet.ResNet50(\r\n",
      "    /home/vajicek/.local/lib/python3.8/site-packages/keras/applications/resnet.py:458 ResNet50\r\n",
      "        return ResNet(stack_fn, False, True, 'resnet50', include_top, weights,\r\n",
      "    /home/vajicek/.local/lib/python3.8/site-packages/keras/applications/resnet.py:165 ResNet\r\n",
      "        x = stack_fn(x)\r\n",
      "    /home/vajicek/.local/lib/python3.8/site-packages/keras/applications/resnet.py:456 stack_fn\r\n",
      "        return stack1(x, 512, 3, name='conv5')\r\n",
      "    /home/vajicek/.local/lib/python3.8/site-packages/keras/applications/resnet.py:273 stack1\r\n",
      "        x = block1(x, filters, conv_shortcut=False, name=name + '_block' + str(i))\r\n",
      "    /home/vajicek/.local/lib/python3.8/site-packages/keras/applications/resnet.py:243 block1\r\n",
      "        x = layers.Conv2D(\r\n",
      "    /home/vajicek/.local/lib/python3.8/site-packages/keras/engine/base_layer.py:976 __call__\r\n",
      "        return self._functional_construction_call(inputs, args, kwargs,\r\n",
      "    /home/vajicek/.local/lib/python3.8/site-packages/keras/engine/base_layer.py:1114 _functional_construction_call\r\n",
      "        outputs = self._keras_tensor_symbolic_call(\r\n",
      "    /home/vajicek/.local/lib/python3.8/site-packages/keras/engine/base_layer.py:848 _keras_tensor_symbolic_call\r\n",
      "        return self._infer_output_signature(inputs, args, kwargs, input_masks)\r\n",
      "    /home/vajicek/.local/lib/python3.8/site-packages/keras/engine/base_layer.py:886 _infer_output_signature\r\n",
      "        self._maybe_build(inputs)\r\n",
      "    /home/vajicek/.local/lib/python3.8/site-packages/keras/engine/base_layer.py:2659 _maybe_build\r\n",
      "        self.build(input_shapes)  # pylint:disable=not-callable\r\n",
      "    /home/vajicek/.local/lib/python3.8/site-packages/keras/layers/convolutional.py:197 build\r\n",
      "        self.kernel = self.add_weight(\r\n",
      "    /home/vajicek/.local/lib/python3.8/site-packages/keras/engine/base_layer.py:647 add_weight\r\n",
      "        variable = self._add_variable_with_custom_getter(\r\n",
      "    /home/vajicek/.local/lib/python3.8/site-packages/tensorflow/python/training/tracking/base.py:813 _add_variable_with_custom_getter\r\n",
      "        new_variable = getter(\r\n",
      "    /home/vajicek/.local/lib/python3.8/site-packages/keras/engine/base_layer_utils.py:117 make_variable\r\n",
      "        return tf.compat.v1.Variable(\r\n",
      "    /home/vajicek/.local/lib/python3.8/site-packages/tensorflow/python/ops/variables.py:266 __call__\r\n",
      "        return cls._variable_v1_call(*args, **kwargs)\r\n",
      "    /home/vajicek/.local/lib/python3.8/site-packages/tensorflow/python/ops/variables.py:212 _variable_v1_call\r\n",
      "        return previous_getter(\r\n",
      "    /home/vajicek/.local/lib/python3.8/site-packages/tensorflow/python/ops/variables.py:67 getter\r\n",
      "        return captured_getter(captured_previous, **kwargs)\r\n",
      "    /home/vajicek/.local/lib/python3.8/site-packages/tensorflow/python/eager/def_function.py:746 variable_capturing_scope\r\n",
      "        v = UnliftedInitializerVariable(\r\n",
      "    /home/vajicek/.local/lib/python3.8/site-packages/tensorflow/python/ops/variables.py:270 __call__\r\n",
      "        return super(VariableMetaclass, cls).__call__(*args, **kwargs)\r\n",
      "    /home/vajicek/.local/lib/python3.8/site-packages/tensorflow/python/eager/def_function.py:294 __init__\r\n",
      "        initial_value = initial_value()\r\n",
      "    /home/vajicek/.local/lib/python3.8/site-packages/tensorflow/python/ops/init_ops.py:354 __call__\r\n",
      "        return random_ops.truncated_normal(\r\n",
      "    /home/vajicek/.local/lib/python3.8/site-packages/tensorflow/python/util/dispatch.py:206 wrapper\r\n",
      "        return target(*args, **kwargs)\r\n",
      "    /home/vajicek/.local/lib/python3.8/site-packages/tensorflow/python/ops/random_ops.py:205 truncated_normal\r\n",
      "        mul = rnd * stddev_tensor\r\n",
      "    /home/vajicek/.local/lib/python3.8/site-packages/tensorflow/python/ops/math_ops.py:1367 binary_op_wrapper\r\n",
      "        return func(x, y, name=name)\r\n",
      "    /home/vajicek/.local/lib/python3.8/site-packages/tensorflow/python/ops/math_ops.py:1710 _mul_dispatch\r\n",
      "        return multiply(x, y, name=name)\r\n",
      "    /home/vajicek/.local/lib/python3.8/site-packages/tensorflow/python/util/dispatch.py:206 wrapper\r\n",
      "        return target(*args, **kwargs)\r\n",
      "    /home/vajicek/.local/lib/python3.8/site-packages/tensorflow/python/ops/math_ops.py:530 multiply\r\n",
      "        return gen_math_ops.mul(x, y, name)\r\n",
      "    /home/vajicek/.local/lib/python3.8/site-packages/tensorflow/python/ops/gen_math_ops.py:6236 mul\r\n",
      "        _ops.raise_from_not_ok_status(e, name)\r\n",
      "    /home/vajicek/.local/lib/python3.8/site-packages/tensorflow/python/framework/ops.py:6941 raise_from_not_ok_status\r\n",
      "        six.raise_from(core._status_to_exception(e.code, message), None)\r\n",
      "    <string>:3 raise_from\r\n",
      "        \r\n",
      "\r\n",
      "    ResourceExhaustedError: failed to allocate memory [Op:Mul]\r\n",
      "\r\n"
     ]
    }
   ],
   "source": [
    "!{command}"
   ]
  }
 ],
 "metadata": {
  "kernelspec": {
   "display_name": "Python 3",
   "language": "python",
   "name": "python3"
  },
  "language_info": {
   "codemirror_mode": {
    "name": "ipython",
    "version": 3
   },
   "file_extension": ".py",
   "mimetype": "text/x-python",
   "name": "python",
   "nbconvert_exporter": "python",
   "pygments_lexer": "ipython3",
   "version": "3.8.10"
  }
 },
 "nbformat": 4,
 "nbformat_minor": 4
}
