{
 "cells": [
  {
   "cell_type": "code",
   "execution_count": null,
   "metadata": {},
   "outputs": [],
   "source": [
    "import os\n",
    "import json\n",
    "import glob\n",
    "\n",
    "from matplotlib import pyplot as plt\n",
    "import matplotlib.image as mpimg\n",
    "import matplotlib.patches as patches\n",
    "datafolder = os.path.join(os.path.expanduser('~'), 'data/targets/points/')"
   ]
  },
  {
   "cell_type": "code",
   "execution_count": null,
   "metadata": {},
   "outputs": [],
   "source": [
    "g = glob.glob(datafolder + '*.json')\n",
    "n = os.path.splitext(g[1])[0]\n",
    "filename = n + '.jpg'\n",
    "j = json.load(open(n + '.json'))\n",
    "img = mpimg.imread(filename)\n",
    "\n",
    "fig, ax = plt.subplots(figsize=(10,10))\n",
    "ax.imshow(img)\n",
    "\n",
    "w = 30\n",
    "\n",
    "for shape in j['shapes']:\n",
    "    p = shape['points']\n",
    "    rect = patches.Rectangle((p[0][0] - w, p[0][1] - w), 2*w, 2*w,\n",
    "                             linewidth=1, edgecolor='r', facecolor='none')\n",
    "#     rect = patches.Rectangle(tuple(p[0]), p[1][0]-p[0][0], p[1][1]-p[0][1],\n",
    "#                              linewidth=1, edgecolor='r', facecolor='none')\n",
    "    ax.add_patch(rect)\n",
    "plt.show()"
   ]
  },
  {
   "cell_type": "code",
   "execution_count": null,
   "metadata": {},
   "outputs": [],
   "source": [
    "g = glob.glob(datafolder + '*.json')\n",
    "n = os.path.splitext(g[3])[0]\n",
    "filename = n + '.jpg'\n",
    "j = json.load(open(n + '.json'))\n",
    "img = mpimg.imread(filename)\n",
    "\n",
    "fig, ax = plt.subplots(figsize=(10,10))\n",
    "ax.imshow(img)\n",
    "\n",
    "s = 40\n",
    "\n",
    "for shape in j['shapes']:\n",
    "    p = shape['points']\n",
    "    rect = patches.Rectangle((p[0][0] - s, p[0][1] - s), 2 * s, 2 * s,\n",
    "                             linewidth=1, edgecolor='r', facecolor='none')\n",
    "    ax.add_patch(rect)\n",
    "plt.show()"
   ]
  },
  {
   "cell_type": "code",
   "execution_count": null,
   "metadata": {},
   "outputs": [],
   "source": [
    "!cat {datafolder}/IMG_20210706_091131.json"
   ]
  }
 ],
 "metadata": {
  "kernelspec": {
   "display_name": "Python 3",
   "language": "python",
   "name": "python3"
  },
  "language_info": {
   "codemirror_mode": {
    "name": "ipython",
    "version": 3
   },
   "file_extension": ".py",
   "mimetype": "text/x-python",
   "name": "python",
   "nbconvert_exporter": "python",
   "pygments_lexer": "ipython3",
   "version": "3.8.10"
  }
 },
 "nbformat": 4,
 "nbformat_minor": 4
}
